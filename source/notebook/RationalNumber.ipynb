{
 "cells": [
  {
   "cell_type": "markdown",
   "metadata": {},
   "source": [
    "# 包含所有有理数的的二叉树\n"
   ]
  },
  {
   "cell_type": "markdown",
   "metadata": {},
   "source": [
    "## rational_depth\n",
    "\n",
    "书上给出了实现。"
   ]
  },
  {
   "cell_type": "code",
   "execution_count": 74,
   "metadata": {},
   "outputs": [
    {
     "name": "stdout",
     "output_type": "stream",
     "text": [
      "[[5, 1], [4, 5], [7, 4], [3, 7], [8, 3], [5, 8], [7, 5], [2, 7], [7, 2], [5, 7], [8, 5], [3, 8], [7, 3], [4, 7], [5, 4], [1, 5]]\n",
      "1.7280767000002015 s\n"
     ]
    }
   ],
   "source": [
    "def descendants(nod):\n",
    "    return [[nod[0]+nod[1],nod[1]],[nod[0],nod[0]+nod[1]]]\n",
    "\n",
    "def rational_depth(k):\n",
    "    root_list = [[1,1]]\n",
    "    final_list = root_list\n",
    "\n",
    "    for m in range(0,k):\n",
    "        list_before = final_list\n",
    "        final_list = list_before*2\n",
    "\n",
    "        lglist = len(list_before)\n",
    "        for i in range(0,lglist):\n",
    "            descd = descendants(list_before[i])\n",
    "            final_list[2*i] = descd[0]\n",
    "            final_list[2*i+1] = descd[1]\n",
    "\n",
    "    return final_list\n",
    "\n",
    "\n",
    "print(rational_depth(4))\n",
    "\n",
    "# 测试运行时间\n",
    "from timeit import timeit\n",
    "\n",
    "print(timeit(lambda: rational_depth(8),number = 10000),'s')"
   ]
  },
  {
   "cell_type": "markdown",
   "metadata": {},
   "source": [
    "### 充分利用python的语法，可以简化表达\n",
    "\n",
    "书上的实现方式，c++味道太浓了，我们有更简洁的方式。\n",
    "\n",
    "根据timeit模块的计时结果（重复调用函数取最快记录），新的写法快0.4s左右，当k=8。"
   ]
  },
  {
   "cell_type": "code",
   "execution_count": 75,
   "metadata": {},
   "outputs": [
    {
     "name": "stdout",
     "output_type": "stream",
     "text": [
      "[(5, 1), (4, 5), (7, 4), (3, 7), (8, 3), (5, 8), (7, 5), (2, 7), (7, 2), (5, 7), (8, 5), (3, 8), (7, 3), (4, 7), (5, 4), (1, 5)]\n",
      "1.2892112999998062 s\n"
     ]
    }
   ],
   "source": [
    "from itertools import chain\n",
    "def _descendants(nod):\n",
    "    \"\"\"\n",
    "    nod: Iterable,\n",
    "    len(nod) == 2\n",
    "    \"\"\"\n",
    "    return (nod[0]+nod[1],nod[1]),(nod[0],nod[0]+nod[1])\n",
    "\n",
    "def rational_depth_beta(k:int):\n",
    "    l = ((1,1),)\n",
    "    for i in range(k):\n",
    "        _l = (_descendants(nod) for nod in l)\n",
    "        l = list(chain.from_iterable(_l))\n",
    "    return l\n",
    "\n",
    "print(rational_depth_beta(4))\n",
    "from timeit import timeit\n",
    "\n",
    "print(timeit(lambda: rational_depth_beta(8),number = 10000),'s')"
   ]
  },
  {
   "cell_type": "markdown",
   "metadata": {},
   "source": [
    "用的到的知识：\n",
    "\n",
    "* Tuple元组：python函数返回多个由逗号间隔的值，其类型为元组。元组可以当做一个“不可变数组“，就像c++中的const array.\n",
    "* 使用itertools中提供的工具，简化循环的表达。itertools的工具是python标准库的一部分。这里使用的chain.from_iterable，可以将多个迭代器的输出串连起来，做为一个迭代器。举个例子：  \n",
    "chain.from_iterable(['ABC', 'DEF']) --> A B C D E F\n",
    "* 迭代器：数组、字符串、list、dict等等数据结构，凡是提供了一种遍历其所有元素的方法的，都被视作迭代器。如果你写了一个二叉树，实现了中序遍历，这也是一个迭代器。在代码上讲，实现了__getitem__或__iter__方法的类，都是迭代器。常见使用方式是`for item in iterator`。 \n",
    "* timeit模块，python标准库。用于测试小段代码的运行速度。"
   ]
  },
  {
   "cell_type": "markdown",
   "metadata": {},
   "source": [
    "## Q1 Proof\n",
    "\n",
    "从二叉树左右子代的生成过程来看，这是显然的事情。"
   ]
  },
  {
   "cell_type": "markdown",
   "metadata": {},
   "source": [
    "## Q2 script"
   ]
  },
  {
   "cell_type": "code",
   "execution_count": 76,
   "metadata": {},
   "outputs": [],
   "source": [
    "def ascendant(nod):\n",
    "    \"\"\"\n",
    "    假定输入的点是树上的点，即分子分母互质。\n",
    "    \"\"\"\n",
    "    k,m = nod\n",
    "    if k==m:\n",
    "        return nod\n",
    "    elif k>m:\n",
    "        return [k-m,m]\n",
    "    else:\n",
    "        return [k,m-k]"
   ]
  },
  {
   "cell_type": "markdown",
   "metadata": {},
   "source": [
    "## Q3 `ascendant_path(nod)`"
   ]
  },
  {
   "cell_type": "code",
   "execution_count": 77,
   "metadata": {},
   "outputs": [
    {
     "name": "stdout",
     "output_type": "stream",
     "text": [
      "[[5, 8], [5, 3], [2, 3], [2, 1], [1, 1]]\n"
     ]
    }
   ],
   "source": [
    "def ascendant_path(nod):\n",
    "    l = [nod]\n",
    "    while nod[0] != nod[1]:\n",
    "        nod = ascendant(nod)\n",
    "        l.append(nod)\n",
    "    return l\n",
    "\n",
    "print(ascendant_path([5,8]))"
   ]
  },
  {
   "cell_type": "markdown",
   "metadata": {},
   "source": [
    "## Q4 depth_node"
   ]
  },
  {
   "cell_type": "markdown",
   "metadata": {},
   "source": [
    "\n",
    "从一个内部节点`[k,m]`出发，连续取n次左子代，得到的节点是`[k+n*m,m]`，所以使用整除和余数可以更快求深度，相比于遍历先代求序列长度而言。\n"
   ]
  },
  {
   "cell_type": "code",
   "execution_count": 78,
   "metadata": {},
   "outputs": [
    {
     "name": "stdout",
     "output_type": "stream",
     "text": [
      "4\n"
     ]
    }
   ],
   "source": [
    "def _f(p,q):\n",
    "    \"\"\"\n",
    "    Suppose p!=q\n",
    "    \"\"\"\n",
    "    if p>q:\n",
    "        d = p//q\n",
    "        p = p%q\n",
    "    else:\n",
    "        d = q//p\n",
    "        q = q%p\n",
    "    return p,q,d\n",
    "\n",
    "def depth_node(nod):\n",
    "    d = 0\n",
    "    p,q = nod\n",
    "    while p!=0 and q!=0:\n",
    "        p,q,_d = _f(p,q)\n",
    "        d+=_d\n",
    "\n",
    "    return d-1\n",
    "\n",
    "\n",
    "print(depth_node([5,8]))\n"
   ]
  },
  {
   "cell_type": "markdown",
   "metadata": {},
   "source": [
    "## Q5 180/336\n",
    "\n",
    "其分母分子不互质，[180,336]不是树上的节点，要先化简。\n",
    "\n",
    "另外，先代列表里有根节点，而根节点的 depth 是0。"
   ]
  },
  {
   "cell_type": "code",
   "execution_count": 79,
   "metadata": {},
   "outputs": [],
   "source": [
    "def _g(p,q):\n",
    "    \"\"\"\n",
    "    Suppose p!=q\n",
    "\n",
    "    Return p>q\n",
    "    \"\"\"\n",
    "    if p>q:\n",
    "        r = p%q\n",
    "        p = q\n",
    "        q = r\n",
    "\n",
    "    else:\n",
    "        r = q%p\n",
    "        p = p\n",
    "        q = r\n",
    "    return p,q\n",
    "\n",
    "def gcd(p,q):\n",
    "    p,q = nod\n",
    "    while q!=0:\n",
    "        p,q = _g(p,q)\n",
    "    return p\n",
    "\n"
   ]
  },
  {
   "cell_type": "code",
   "execution_count": 80,
   "metadata": {},
   "outputs": [
    {
     "name": "stdout",
     "output_type": "stream",
     "text": [
      "asc_l =  [[30, 61], [30, 31], [30, 1], [29, 1], [28, 1], [27, 1], [26, 1], [25, 1], [24, 1], [23, 1], [22, 1], [21, 1], [20, 1], [19, 1], [18, 1], [17, 1], [16, 1], [15, 1], [14, 1], [13, 1], [12, 1], [11, 1], [10, 1], [9, 1], [8, 1], [7, 1], [6, 1], [5, 1], [4, 1], [3, 1], [2, 1], [1, 1]]\n",
      "length of asc_l =  32\n",
      "depth =  31\n"
     ]
    }
   ],
   "source": [
    "nod = [180,366]\n",
    "c = gcd(*nod)\n",
    "nod = [v//c for v in nod ]\n",
    "asc_l = ascendant_path(nod)\n",
    "print(\"asc_l = \",ascendant_path(nod))\n",
    "print(\"length of asc_l = \",len(ascendant_path(nod)))\n",
    "print(\"depth = \",depth_node(nod))"
   ]
  },
  {
   "cell_type": "markdown",
   "metadata": {},
   "source": [
    "## Q6 使rational_depth递归化"
   ]
  },
  {
   "cell_type": "markdown",
   "metadata": {},
   "source": [
    "比书实现的循环版本略慢，0.01s"
   ]
  },
  {
   "cell_type": "code",
   "execution_count": 81,
   "metadata": {},
   "outputs": [
    {
     "name": "stdout",
     "output_type": "stream",
     "text": [
      "[(5, 1), (4, 5), (7, 4), (3, 7), (8, 3), (5, 8), (7, 5), (2, 7), (7, 2), (5, 7), (8, 5), (3, 8), (7, 3), (4, 7), (5, 4), (1, 5)]\n",
      "1.7442528000001403 s\n"
     ]
    }
   ],
   "source": [
    "from itertools import chain\n",
    "def _row(d,k):\n",
    "    \"\"\"\n",
    "    Return the k-th node at depth d.\"\"\"\n",
    "    if d==0: # root\n",
    "        return (1,1)\n",
    "    elif k%2==0: # left child\n",
    "        parent =  _row(d-1,k//2)\n",
    "        return parent[0]+parent[1],parent[1]\n",
    "    else: # right child\n",
    "        parent = _row(d-1,(k-1)//2)\n",
    "        return parent[0],parent[0]+parent[1]\n",
    "\n",
    "print(rational_depth_beta(4))\n",
    "\n",
    "# 测试运行时间\n",
    "from timeit import timeit\n",
    "\n",
    "print(timeit(lambda: rational_depth(8),number = 10000),'s')"
   ]
  },
  {
   "cell_type": "markdown",
   "metadata": {},
   "source": [
    "## Appendix\n",
    "\n",
    "![hw1](images/hw/1.jpg)\n",
    "![hw1](images/hw/2.jpg)\n",
    "![hw1](images/hw/3.jpg)\n"
   ]
  }
 ],
 "metadata": {
  "kernelspec": {
   "display_name": "Python 3.7.9 64-bit ('qt': conda)",
   "name": "python379jvsc74a57bd06573176fe9b2b5ebbaefa9191a83fcf248df8dbc830cb63c2c3e0a826059f3e3"
  },
  "language_info": {
   "name": "python",
   "version": ""
  },
  "orig_nbformat": 2
 },
 "nbformat": 4,
 "nbformat_minor": 2
}