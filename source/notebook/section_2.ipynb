{
 "cells": [
  {
   "cell_type": "markdown",
   "metadata": {},
   "source": [
    "# 第二节：Python的序列容器与牛顿迭代法\n",
    "\n",
    "## 牛顿迭代法\n",
    "\n",
    "牛顿迭代法可以看作一个下降方法：当函数值大于零时下降，当函数值小于零时上升。使用函数在出发点处的一阶近似（线性近似）来逼近函数，使用这个逼近函数的零点位置，作为原函数的下降方向和下降步长。\n",
    "\n",
    "那么，两点的牛顿法，就是用新的方式获得逼近函数，并确定方向和步长。\n",
    "\n",
    "## 两点牛顿迭代法\n",
    "\n",
    "\n",
    "*A Two-Point Newton Method Suitable for Nonconvergent Cases and with Super-Quadratic Convergence*\n"
   ]
  },
  {
   "cell_type": "markdown",
   "metadata": {},
   "source": [
    "## python循环的写法\n",
    "\n",
    "python最基本的for-loop也有很多说道。"
   ]
  },
  {
   "cell_type": "code",
   "execution_count": 123,
   "metadata": {},
   "outputs": [
    {
     "name": "stdout",
     "output_type": "stream",
     "text": [
      "0\n",
      "1\n",
      "2\n"
     ]
    }
   ],
   "source": [
    "for i in range(3):\n",
    "    print(i)"
   ]
  },
  {
   "cell_type": "markdown",
   "metadata": {},
   "source": [
    "或者每次从列表提取一个值："
   ]
  },
  {
   "cell_type": "code",
   "execution_count": 124,
   "metadata": {},
   "outputs": [
    {
     "name": "stdout",
     "output_type": "stream",
     "text": [
      "1\n",
      "2\n",
      "3\n"
     ]
    }
   ],
   "source": [
    "for v in [1,2,3]:\n",
    "    print(v)"
   ]
  },
  {
   "cell_type": "markdown",
   "metadata": {},
   "source": [
    "或者每次提取多个值："
   ]
  },
  {
   "cell_type": "code",
   "execution_count": 125,
   "metadata": {},
   "outputs": [
    {
     "name": "stdout",
     "output_type": "stream",
     "text": [
      "1 111\n",
      "2 222\n",
      "3 333\n"
     ]
    }
   ],
   "source": [
    "for a,b in zip([1,2,3],[111,222,333]):\n",
    "    print(a,b)"
   ]
  },
  {
   "cell_type": "code",
   "execution_count": 126,
   "metadata": {},
   "outputs": [
    {
     "name": "stdout",
     "output_type": "stream",
     "text": [
      "0 a\n",
      "1 b\n",
      "2 c\n"
     ]
    }
   ],
   "source": [
    "for i,v in enumerate(['a','b','c']):\n",
    "    print(i,v)"
   ]
  },
  {
   "cell_type": "markdown",
   "metadata": {},
   "source": [
    "我们将提取的多个值赋给多个变量（刚才的`for i,v`就是），这叫做 **序列拆包(sequence unpacking)** 。下面先看看什么是元组tuple:"
   ]
  },
  {
   "cell_type": "markdown",
   "metadata": {},
   "source": [
    "### 元组、元组打包和序列拆包"
   ]
  },
  {
   "cell_type": "code",
   "execution_count": 127,
   "metadata": {},
   "outputs": [
    {
     "name": "stdout",
     "output_type": "stream",
     "text": [
      "<class 'tuple'> (1, 2, 3)\n"
     ]
    }
   ],
   "source": [
    "tp = (1,2,3)\n",
    "print(type(tp),tp)"
   ]
  },
  {
   "cell_type": "code",
   "execution_count": 128,
   "metadata": {},
   "outputs": [
    {
     "name": "stdout",
     "output_type": "stream",
     "text": [
      "(1,)\n",
      "1\n",
      "0\n"
     ]
    }
   ],
   "source": [
    "tp = (1,)\n",
    "not_tp = (1)\n",
    "empty_tp = ()\n",
    "print(tp)\n",
    "print(len(tp))\n",
    "print(len(empty_tp))"
   ]
  },
  {
   "cell_type": "markdown",
   "metadata": {},
   "source": [
    "元组可以拼接，可以像list一样使用[]取值，但不能赋值。tuple是一个不可变容器(immutable container)。"
   ]
  },
  {
   "cell_type": "code",
   "execution_count": 129,
   "metadata": {},
   "outputs": [
    {
     "name": "stdout",
     "output_type": "stream",
     "text": [
      "(1, 2, 3)\n"
     ]
    }
   ],
   "source": [
    "tp = (1,2) +(3,)\n",
    "print(tp)"
   ]
  },
  {
   "cell_type": "markdown",
   "metadata": {},
   "source": [
    "赋值给多个变量时，拆包是自动的："
   ]
  },
  {
   "cell_type": "code",
   "execution_count": 130,
   "metadata": {},
   "outputs": [
    {
     "name": "stdout",
     "output_type": "stream",
     "text": [
      "1\n",
      "2\n"
     ]
    }
   ],
   "source": [
    "a,b = (1,2)\n",
    "print(a)\n",
    "print(b)\n",
    "\n"
   ]
  },
  {
   "cell_type": "code",
   "execution_count": 131,
   "metadata": {},
   "outputs": [
    {
     "name": "stdout",
     "output_type": "stream",
     "text": [
      "1\n",
      "2\n"
     ]
    }
   ],
   "source": [
    "a,b = [1,2]\n",
    "print(a)\n",
    "print(b)"
   ]
  },
  {
   "cell_type": "markdown",
   "metadata": {},
   "source": [
    "一个有趣的应用，变量交换。[Note that multiple assignment is really just a combination of tuple packing and sequence unpacking.](https://docs.python.org/3.7/tutorial/datastructures.html?highlight=tuple#tuples-and-sequences)"
   ]
  },
  {
   "cell_type": "code",
   "execution_count": 132,
   "metadata": {},
   "outputs": [
    {
     "name": "stdout",
     "output_type": "stream",
     "text": [
      "2\n",
      "1\n"
     ]
    }
   ],
   "source": [
    "a,b = [1,2]\n",
    "a,b = b,a\n",
    "print(a)\n",
    "print(b)"
   ]
  },
  {
   "cell_type": "markdown",
   "metadata": {},
   "source": [
    "使用*可以选择将几个值打包成元组："
   ]
  },
  {
   "cell_type": "code",
   "execution_count": 133,
   "metadata": {},
   "outputs": [
    {
     "name": "stdout",
     "output_type": "stream",
     "text": [
      "1 2 [3, 4, 5]\n"
     ]
    }
   ],
   "source": [
    "a,b,*c = 1,2,3,4,5\n",
    "print(a,b,c)"
   ]
  },
  {
   "cell_type": "code",
   "execution_count": 134,
   "metadata": {},
   "outputs": [
    {
     "name": "stdout",
     "output_type": "stream",
     "text": [
      "1 [2, 3, 4, 5] 6\n"
     ]
    }
   ],
   "source": [
    "a,*b,c = 1,2,3,4,5,6\n",
    "print(a,b,c)"
   ]
  },
  {
   "cell_type": "markdown",
   "metadata": {},
   "source": [
    "函数返回多个值，用逗号隔开，会自动打包成元组。"
   ]
  },
  {
   "cell_type": "code",
   "execution_count": 135,
   "metadata": {},
   "outputs": [
    {
     "name": "stdout",
     "output_type": "stream",
     "text": [
      "1 a 3\n"
     ]
    }
   ],
   "source": [
    "def f():\n",
    "    return 1,'a',3\n",
    "\n",
    "a,b,c = f()\n",
    "print(a,b,c)"
   ]
  },
  {
   "cell_type": "markdown",
   "metadata": {},
   "source": [
    "使用拆包传参：[Python3.7-doc:4.7.4. Unpacking Argument Lists¶](https://docs.python.org/3.7/tutorial/controlflow.html#unpacking-argument-lists)\n",
    "\n",
    "在函数调用时，要用`*`显式地做拆包tuple或list，这对应于postional arguments：\n",
    "\n"
   ]
  },
  {
   "cell_type": "code",
   "execution_count": 136,
   "metadata": {},
   "outputs": [
    {
     "name": "stdout",
     "output_type": "stream",
     "text": [
      "3\n"
     ]
    }
   ],
   "source": [
    "def add(a,b):\n",
    "    return a+b\n",
    "\n",
    "\n",
    "print(add(*[1,2]))\n",
    "\n"
   ]
  },
  {
   "cell_type": "markdown",
   "metadata": {},
   "source": [
    "字典拆包对应于keyword-arguments:"
   ]
  },
  {
   "cell_type": "code",
   "execution_count": 137,
   "metadata": {},
   "outputs": [
    {
     "name": "stdout",
     "output_type": "stream",
     "text": [
      "3\n"
     ]
    }
   ],
   "source": [
    "print(add(**{'b':2,'a':1}))"
   ]
  },
  {
   "cell_type": "markdown",
   "metadata": {},
   "source": [
    "好了，有了 **序列拆包** 的概念，我们可以让for-loop更coooool：\n"
   ]
  },
  {
   "cell_type": "code",
   "execution_count": 138,
   "metadata": {},
   "outputs": [
    {
     "name": "stdout",
     "output_type": "stream",
     "text": [
      "<0> CS: An Introdution to Python/Me $20(tax:$2) \n",
      "<24>Art: BlaBla/Nobody $998(tax:$50) \n"
     ]
    }
   ],
   "source": [
    "data = [\n",
    "    ((0,\" CS\"),\"An Introdution to Python\",\"Me\",(20,2)),\n",
    "    ((24,\"Art\"),\"BlaBla\",\"Nobody\",(998,50))\n",
    "]\n",
    "for (id,catagory),title,author,(price,tax) in data:\n",
    "    print(f\"<{id}>{catagory}: {title}/{author} ${price}(tax:${tax}) \")"
   ]
  },
  {
   "cell_type": "markdown",
   "metadata": {},
   "source": [
    "### for-loop与Iterator"
   ]
  },
  {
   "cell_type": "markdown",
   "metadata": {},
   "source": [
    "实际上，以上的for-loop相比于c==的for-loop:`for(int i=0;i<10;i++){cout<<i<<endl;}`更接近于matlab中的。这里的并非有一个变量i在自增，而是由range(10)来依次产生每次循环需要的i值。前者，所谓一个变量i自增，可以表示成以下代码："
   ]
  },
  {
   "cell_type": "code",
   "execution_count": 139,
   "metadata": {},
   "outputs": [
    {
     "name": "stdout",
     "output_type": "stream",
     "text": [
      "0\n",
      "1\n",
      "2\n"
     ]
    }
   ],
   "source": [
    "i = 0\n",
    "while True:\n",
    "    if i<3:\n",
    "        print(i)\n",
    "    else:\n",
    "        break\n",
    "    i = i+1"
   ]
  },
  {
   "cell_type": "markdown",
   "metadata": {},
   "source": [
    "而后者，由range(10)来依次产生每次循环需要的i值，则是以下的样子："
   ]
  },
  {
   "cell_type": "code",
   "execution_count": 140,
   "metadata": {},
   "outputs": [
    {
     "name": "stdout",
     "output_type": "stream",
     "text": [
      "0\n",
      "1\n",
      "2\n",
      "3\n"
     ]
    }
   ],
   "source": [
    "iterator = iter(range(4))\n",
    "\n",
    "while True:\n",
    "    try:\n",
    "        i = next(iterator)\n",
    "    except StopIteration:\n",
    "        break\n",
    "    print(i)"
   ]
  },
  {
   "cell_type": "markdown",
   "metadata": {},
   "source": [
    "这里iter(x)是一个magic方法（或称dunder方法——double_underscore方法），即实际调用x.__iter__()，返回一个迭代器Iterator。next方法让迭代器输出一个元素，当元素耗尽时，会产生一个StopIteration的异常。直观上，你可以理解成，所谓for-loop从0到9，就是先产生一个列表[0,1,...,9]。然后每一次按顺序取出一个元素，取完了所有元素，迭代就终止了。\n",
    "\n",
    "很多容器都可以产生迭代器，并通过for-loop实现“容器遍历”："
   ]
  },
  {
   "cell_type": "code",
   "execution_count": 141,
   "metadata": {},
   "outputs": [
    {
     "name": "stdout",
     "output_type": "stream",
     "text": [
      "<class 'dict_keyiterator'>\n",
      "c\n",
      "b\n",
      "a\n",
      "1\n",
      "2\n",
      "3\n",
      "c : 1\n",
      "b : 2\n",
      "a : 3\n",
      "1\n",
      "2\n",
      "3\n"
     ]
    }
   ],
   "source": [
    "# 遍历字典\n",
    "d = {\"c\":1,\"b\":2,\"a\":3}\n",
    "print(type(iter(d)))\n",
    "\n",
    "for k in d.keys():\n",
    "    print(k)\n",
    "\n",
    "for v in d.values():\n",
    "    print(v)\n",
    "\n",
    "for k,v in d.items():\n",
    "    print(k,\":\",v)\n",
    "\n",
    "\n",
    "# 遍历列表\n",
    "for v in [1,2,3]:\n",
    "    print(v)"
   ]
  },
  {
   "cell_type": "markdown",
   "metadata": {},
   "source": [
    "我们看看[官方文档](https://docs.python.org/3.7/tutorial/classes.html#iterators)上的说法：\n",
    "\n",
    "By now you have probably noticed that most container objects can be looped over using a for statement. This style of access is clear, concise, and convenient. The use of iterators pervades and unifies Python. Behind the scenes, the for statement calls iter() on the container object. The function returns an iterator object that defines the method __next__() which accesses elements in the container one at a time. When there are no more elements, __next__() raises a StopIteration exception which tells the for loop to terminate. You can call the __next__() method using the next() built-in function; this example shows how it all works:"
   ]
  },
  {
   "cell_type": "markdown",
   "metadata": {},
   "source": [
    "```python \n",
    ">>> s = 'abc'\n",
    ">>> it = iter(s)\n",
    ">>> it\n",
    "<iterator object at 0x00A1DB50>\n",
    ">>> next(it)\n",
    "'a'\n",
    ">>> next(it)\n",
    "'b'\n",
    ">>> next(it)\n",
    "'c'\n",
    ">>> next(it)\n",
    "Traceback (most recent call last):\n",
    "  File \"<stdin>\", line 1, in <module>\n",
    "    next(it)\n",
    "StopIteration\n",
    "```"
   ]
  },
  {
   "cell_type": "markdown",
   "metadata": {},
   "source": [
    "我们可以同时产生多个iterator，它们之间互不干扰："
   ]
  },
  {
   "cell_type": "code",
   "execution_count": 142,
   "metadata": {},
   "outputs": [
    {
     "name": "stdout",
     "output_type": "stream",
     "text": [
      "1\n",
      "2\n",
      "1\n",
      "2\n",
      "3\n",
      "3\n",
      "4\n"
     ]
    }
   ],
   "source": [
    "l = [1,2,3,4,5]\n",
    "it1 = iter(l)\n",
    "it2 = iter(l)\n",
    "for i in range(2):\n",
    "    print(next(it1))\n",
    "\n",
    "for i in range(3):\n",
    "    print(next(it2))\n",
    "\n",
    "for i in range(2):\n",
    "    print(next(it1))"
   ]
  },
  {
   "cell_type": "markdown",
   "metadata": {},
   "source": [
    "\n",
    "我们还可以实现类的__iter__方法，来返回一个迭代器。迭代器是一个实现了__next__方法的类："
   ]
  },
  {
   "cell_type": "code",
   "execution_count": 143,
   "metadata": {},
   "outputs": [
    {
     "name": "stdout",
     "output_type": "stream",
     "text": [
      "0\n",
      "1\n",
      "2\n",
      "3\n"
     ]
    }
   ],
   "source": [
    "\n",
    "class myrange:\n",
    "    \n",
    "    def __init__(self,n):\n",
    "        self.n = n\n",
    "\n",
    "    def __iter__(self):\n",
    "        return myrange_iterator(self.n)\n",
    "\n",
    "\n",
    "class myrange_iterator: \n",
    "        def __init__(self,n):\n",
    "            self.n = n\n",
    "            self.i = 0\n",
    "        def __next__(self):\n",
    "            if self.i<self.n:\n",
    "                v = self.i\n",
    "                self.i = self.i+1\n",
    "                return v\n",
    "            else:\n",
    "                raise StopIteration  \n",
    "\n",
    "for i in myrange(4):\n",
    "    print(i)"
   ]
  },
  {
   "cell_type": "markdown",
   "metadata": {},
   "source": [
    "我们可以使用生成器Generator来简化代码，而不是分别定义容器类和迭代器类，因为在很多日常情形，这种抽象是多余的。生成器，就是使用yield关键字的函数，它可以产生一个序列。序列中的元素是在被“取用”的时候才产生的。比如需要做100000次循环，一次性产生所有100000个循环指标是缓慢的。在每次循环的开头产生一个指标就够了。事实上，range就是一个生成器(python3是这样，python2 的range就是一次性生所有，生成器版本是[xrange](https://www.runoob.com/python/python-func-xrange.html)。\n",
    "\n",
    "[官方文档](https://docs.python.org/3.7/tutorial/classes.html#generators)的定义：\n",
    "Generators are a simple and powerful tool for creating **iterators**. They are written like regular functions but use the yield statement whenever they want to return data. Each time next() is called on it, the generator resumes where it left off (it remembers all the data values and which statement was last executed).\n",
    "\n",
    "一个最基本的Generator如下。"
   ]
  },
  {
   "cell_type": "code",
   "execution_count": 144,
   "metadata": {},
   "outputs": [
    {
     "name": "stdout",
     "output_type": "stream",
     "text": [
      "<class 'function'>\n",
      "<class 'generator'>\n",
      "0\n",
      "1\n",
      "2\n",
      "3\n"
     ]
    }
   ],
   "source": [
    "def f(n):\n",
    "    for i in range(n):\n",
    "        yield i\n",
    "print(type(f))\n",
    "print(type(f(4)))\n",
    "\n",
    "for j in f(4):\n",
    "    print(j)"
   ]
  },
  {
   "cell_type": "markdown",
   "metadata": {},
   "source": [
    "直观上理解就是，函数`f`执行到`yield i`时，返回一个值，然后停止在这里。直到下一次从生成器取值。这只是一个直观理解，请注意`f`和`f(4)`的类型，`f`是函数，`f(4)`才是生成器。"
   ]
  },
  {
   "cell_type": "code",
   "execution_count": 145,
   "metadata": {},
   "outputs": [
    {
     "name": "stdout",
     "output_type": "stream",
     "text": [
      "Before yield\n",
      "0\n",
      "After yield 0\n",
      "1\n",
      "After yield 1\n"
     ]
    }
   ],
   "source": [
    "def f():\n",
    "    print(\"Before yield\")\n",
    "    yield 0\n",
    "    print(\"After yield 0\")\n",
    "    yield 1\n",
    "    print(\"After yield 1\")\n",
    "\n",
    "for i in f():\n",
    "    print(i)"
   ]
  },
  {
   "cell_type": "markdown",
   "metadata": {},
   "source": [
    "那么之前的生成器类被简化成以下："
   ]
  },
  {
   "cell_type": "code",
   "execution_count": 146,
   "metadata": {},
   "outputs": [
    {
     "name": "stdout",
     "output_type": "stream",
     "text": [
      "0\n",
      "1\n",
      "2\n",
      "3\n"
     ]
    }
   ],
   "source": [
    "class myrange2:\n",
    "    def __init__(self,n):\n",
    "        self.n = n\n",
    "\n",
    "    def __iter__(self):\n",
    "        for i in range(self.n):\n",
    "            yield i\n",
    "\n",
    "for j in myrange2(4):\n",
    "    print(j)"
   ]
  },
  {
   "cell_type": "markdown",
   "metadata": {},
   "source": [
    "事实上，Generator还可以写得更简洁："
   ]
  },
  {
   "cell_type": "code",
   "execution_count": 147,
   "metadata": {},
   "outputs": [
    {
     "name": "stdout",
     "output_type": "stream",
     "text": [
      "<class 'generator'>\n"
     ]
    }
   ],
   "source": [
    "gen = (i for i in range(4))\n",
    "print(type(gen))"
   ]
  },
  {
   "cell_type": "markdown",
   "metadata": {},
   "source": [
    "在函数调用时，这个括号还可以省略掉："
   ]
  },
  {
   "cell_type": "code",
   "execution_count": 148,
   "metadata": {},
   "outputs": [
    {
     "name": "stdout",
     "output_type": "stream",
     "text": [
      "[0, 1, 2, 3]\n"
     ]
    }
   ],
   "source": [
    "l = list(i for i in range(4))\n",
    "print(l)"
   ]
  },
  {
   "cell_type": "markdown",
   "metadata": {},
   "source": [
    "注意：`iter(Iterator)`会返回本身。"
   ]
  },
  {
   "cell_type": "code",
   "execution_count": 149,
   "metadata": {},
   "outputs": [
    {
     "name": "stdout",
     "output_type": "stream",
     "text": [
      "<class 'list_iterator'>\n",
      "<class 'list_iterator'>\n"
     ]
    }
   ],
   "source": [
    "print(type(iter([1,2])))\n",
    "print(type(iter(iter([1,2]))))"
   ]
  },
  {
   "cell_type": "markdown",
   "metadata": {},
   "source": [
    "注意，以下会导致死循环：\n",
    "\n",
    "```` python\n",
    "l = [1,2,3]\n",
    "for i in l:\n",
    "    print(i)\n",
    "    l.append(i+4)\n",
    "````\n"
   ]
  },
  {
   "cell_type": "markdown",
   "metadata": {},
   "source": [
    "注意：序列拆包也适用于Iterator或Generator!"
   ]
  },
  {
   "cell_type": "code",
   "execution_count": 150,
   "metadata": {},
   "outputs": [
    {
     "name": "stdout",
     "output_type": "stream",
     "text": [
      "0 1 2\n",
      "0 1 2\n"
     ]
    }
   ],
   "source": [
    "def f():\n",
    "    for i in range(3):\n",
    "        yield i\n",
    "\n",
    "\n",
    "a,b,c =f()\n",
    "print(a,b,c)\n",
    "\n",
    "\n",
    "def g(a,b,c):\n",
    "    print(a,b,c)\n",
    "\n",
    "g(*f())"
   ]
  },
  {
   "cell_type": "markdown",
   "metadata": {},
   "source": [
    "### Generator Expression\n",
    "\n",
    "Some simple generators can be coded succinctly as expressions using a syntax similar to list comprehensions but with parentheses instead of square brackets.\n",
    "\n",
    "以下这个就是生成器表达式：\n",
    "\n",
    "````python\n",
    "(i for i in range(3))\n",
    "````\n",
    "\n",
    "它可以用于给容器初始化值："
   ]
  },
  {
   "cell_type": "code",
   "execution_count": 151,
   "metadata": {},
   "outputs": [
    {
     "name": "stdout",
     "output_type": "stream",
     "text": [
      "[0, 1, 2]\n"
     ]
    }
   ],
   "source": [
    "l = [i for i in range(3)]\n",
    "print(l)"
   ]
  },
  {
   "cell_type": "code",
   "execution_count": 152,
   "metadata": {},
   "outputs": [
    {
     "name": "stdout",
     "output_type": "stream",
     "text": [
      "{'a': 1, 'b': 2, 'c': 3}\n"
     ]
    }
   ],
   "source": [
    "d = {key:value for key,value in zip(['a','b','c'],[1,2,3])}\n",
    "print(d)"
   ]
  },
  {
   "cell_type": "markdown",
   "metadata": {},
   "source": [
    "这种写法很直观，比写一个for-loop在依次append要更简洁。此外，if也可以出现在表达式中。以下代码是等价的："
   ]
  },
  {
   "cell_type": "code",
   "execution_count": 153,
   "metadata": {},
   "outputs": [
    {
     "name": "stdout",
     "output_type": "stream",
     "text": [
      "[(0, 0), (0, 1), (0, 2), (1, 0), (1, 1), (1, 2), (2, 0), (2, 1), (2, 2), (3, 0), (3, 1), None]\n"
     ]
    }
   ],
   "source": [
    "l = []\n",
    "for i in range(4):\n",
    "    for j in range(3):\n",
    "        if i+j<5:\n",
    "            l.append((i,j))\n",
    "        else:\n",
    "            l.append(None)\n",
    "\n",
    "print(l)"
   ]
  },
  {
   "cell_type": "code",
   "execution_count": 154,
   "metadata": {},
   "outputs": [
    {
     "name": "stdout",
     "output_type": "stream",
     "text": [
      "[(0, 0), (0, 1), (0, 2), (1, 0), (1, 1), (1, 2), (2, 0), (2, 1), (2, 2), (3, 0), (3, 1), None]\n"
     ]
    }
   ],
   "source": [
    "#l = [(i,j) for i in range(4) for j in range(4) if i+j<5 else None] # Wrong\n",
    "l = [(i,j) if i+j<5 else None for i in range(4) for j in range(3) ]\n",
    "print(l)"
   ]
  },
  {
   "cell_type": "markdown",
   "metadata": {},
   "source": [
    "## Python标准库：itertools"
   ]
  },
  {
   "cell_type": "markdown",
   "metadata": {},
   "source": [
    "我们在上一节的开头，看到了如何在每一个循环提取多个值，通过使用zip。结合我们讲到的Iterator这个概念，zip实际是把两个Iterator的每一次“产出”合成一个元组（tuple）。以下代码是等价的："
   ]
  },
  {
   "cell_type": "code",
   "execution_count": 155,
   "metadata": {},
   "outputs": [
    {
     "name": "stdout",
     "output_type": "stream",
     "text": [
      "a 1\n",
      "b 2\n",
      "c 3\n"
     ]
    }
   ],
   "source": [
    "for n,v in zip(['a','b','c'],[1,2,3]):\n",
    "    print(n,v)\n"
   ]
  },
  {
   "cell_type": "code",
   "execution_count": 156,
   "metadata": {},
   "outputs": [
    {
     "name": "stdout",
     "output_type": "stream",
     "text": [
      "a 1\n",
      "b 2\n",
      "c 3\n"
     ]
    }
   ],
   "source": [
    "def myzip(arg0,arg1):\n",
    "    it0 = iter(arg0)\n",
    "    it1 = iter(arg1)\n",
    "    while True:\n",
    "        try:\n",
    "            yield next(it0),next(it1)\n",
    "        except StopIteration:\n",
    "            return\n",
    "\n",
    "\n",
    "for n,v in myzip(['a','b','c'],[1,2,3]):\n",
    "    print(n,v)"
   ]
  },
  {
   "cell_type": "markdown",
   "metadata": {},
   "source": [
    "在python的标准库itertools里提供了更多的工具，使我们代码更加简洁（而且更快！）。\n",
    "\n"
   ]
  },
  {
   "cell_type": "markdown",
   "metadata": {},
   "source": [
    "*这里的内容sphinx是能看到的，vscode像不行？*\n",
    "\n",
    "<p style=\"hyphens: auto; text-align: justify; line-height: 28px; color: #222222; font-family: 'Lucida Grande', Arial, sans-serif; font-size: 20px; font-style: normal; font-variant-ligatures: normal; font-variant-caps: normal; font-weight: 400; letter-spacing: normal; orphans: 2; text-indent: 0px; text-transform: none; white-space: normal; widows: 2; word-spacing: 0px; -webkit-text-stroke-width: 0px; background-color: #ffffff; text-decoration-thickness: initial; text-decoration-style: initial; text-decoration-color: initial;\"><strong>Infinite iterators:</strong></p>\n",
    "<table class=\"docutils align-default\" style=\"text-align: center; border: 1px solid #dddddd; border-collapse: collapse; margin: 10px auto; min-width: 20%; border-radius: 3px; color: #222222; font-family: 'Lucida Grande', Arial, sans-serif; font-size: 20px; font-style: normal; font-variant-ligatures: normal; font-variant-caps: normal; font-weight: 400; letter-spacing: normal; orphans: 2; text-transform: none; white-space: normal; widows: 2; word-spacing: 0px; -webkit-text-stroke-width: 0px; background-color: #ffffff; text-decoration-thickness: initial; text-decoration-style: initial; text-decoration-color: initial;\" border=\"0\"><colgroup><col style=\"width: 111.297px;\" /><col style=\"width: 126.578px;\" /><col style=\"width: 303.047px;\" /><col style=\"width: 258.078px;\" /></colgroup>\n",
    "<thead>\n",
    "<tr class=\"row-odd\">\n",
    "<th class=\"head\" style=\"text-align: left; padding: 0.3em 0.5em; background-color: #eeeeee; border: 1px solid #dddddd !important; border-radius: 3px;\">\n",
    "<p style=\"text-align: justify; hyphens: auto; margin-top: 0px; margin-bottom: 0px; line-height: 28px;\">Iterator</p>\n",
    "</th>\n",
    "<th class=\"head\" style=\"text-align: left; padding: 0.3em 0.5em; background-color: #eeeeee; border: 1px solid #dddddd !important; border-radius: 3px;\">\n",
    "<p style=\"text-align: justify; hyphens: auto; margin-top: 0px; margin-bottom: 0px; line-height: 28px;\">Arguments</p>\n",
    "</th>\n",
    "<th class=\"head\" style=\"text-align: left; padding: 0.3em 0.5em; background-color: #eeeeee; border: 1px solid #dddddd !important; border-radius: 3px;\">\n",
    "<p style=\"text-align: justify; hyphens: auto; margin-top: 0px; margin-bottom: 0px; line-height: 28px;\">Results</p>\n",
    "</th>\n",
    "<th class=\"head\" style=\"text-align: left; padding: 0.3em 0.5em; background-color: #eeeeee; border: 1px solid #dddddd !important; border-radius: 3px;\">\n",
    "<p style=\"text-align: justify; hyphens: auto; margin-top: 0px; margin-bottom: 0px; line-height: 28px;\">Example</p>\n",
    "</th>\n",
    "</tr>\n",
    "</thead>\n",
    "<tbody>\n",
    "<tr class=\"row-even\">\n",
    "<td style=\"text-align: left; padding: 0.3em 0.5em; border: 1px solid #dddddd !important; border-radius: 3px; background-color: white;\">\n",
    "<p style=\"text-align: justify; hyphens: auto; margin-top: 0px; margin-bottom: 0px; line-height: 28px;\"><a class=\"reference internal\" style=\"color: #0072aa; text-decoration: none;\" title=\"itertools.count\" href=\"https://docs.python.org/3.7/library/itertools.html?highlight=itertools#itertools.count\"><code class=\"xref py py-func docutils literal notranslate\" style=\"background-color: transparent; padding: 0px 1px; font-size: 19.3px; font-family: monospace, sans-serif; font-weight: normal; border-radius: 3px;\"><span class=\"pre\" style=\"hyphens: none;\">count()</span></code></a></p>\n",
    "</td>\n",
    "<td style=\"text-align: left; padding: 0.3em 0.5em; border: 1px solid #dddddd !important; border-radius: 3px; background-color: white;\">\n",
    "<p style=\"text-align: justify; hyphens: auto; margin-top: 0px; margin-bottom: 0px; line-height: 28px;\">start, [step]</p>\n",
    "</td>\n",
    "<td style=\"text-align: left; padding: 0.3em 0.5em; border: 1px solid #dddddd !important; border-radius: 3px; background-color: white;\">\n",
    "<p style=\"text-align: justify; hyphens: auto; margin-top: 0px; margin-bottom: 0px; line-height: 28px;\">start, start+step, start+2*step, …</p>\n",
    "</td>\n",
    "<td style=\"text-align: left; padding: 0.3em 0.5em; border: 1px solid #dddddd !important; border-radius: 3px; background-color: white;\">\n",
    "<p style=\"text-align: justify; hyphens: auto; margin-top: 0px; margin-bottom: 0px; line-height: 28px;\"><code class=\"docutils literal notranslate\" style=\"background-color: #ecf0f3; padding: 0px 1px; font-size: 19.3px; font-family: monospace, sans-serif; border-radius: 3px;\"><span class=\"pre\" style=\"hyphens: none;\">count(10)</span><span> </span><span class=\"pre\" style=\"hyphens: none;\">--&gt;</span><span> </span><span class=\"pre\" style=\"hyphens: none;\">10</span><span> </span><span class=\"pre\" style=\"hyphens: none;\">11</span><span> </span><span class=\"pre\" style=\"hyphens: none;\">12</span><span> </span><span class=\"pre\" style=\"hyphens: none;\">13</span><span> </span><span class=\"pre\" style=\"hyphens: none;\">14</span><span> </span><span class=\"pre\" style=\"hyphens: none;\">...</span></code></p>\n",
    "</td>\n",
    "</tr>\n",
    "<tr class=\"row-odd\">\n",
    "<td style=\"text-align: left; padding: 0.3em 0.5em; border: 1px solid #dddddd !important; border-radius: 3px; background-color: white;\">\n",
    "<p style=\"text-align: justify; hyphens: auto; margin-top: 0px; margin-bottom: 0px; line-height: 28px;\"><a class=\"reference internal\" style=\"color: #0072aa; text-decoration: none;\" title=\"itertools.cycle\" href=\"https://docs.python.org/3.7/library/itertools.html?highlight=itertools#itertools.cycle\"><code class=\"xref py py-func docutils literal notranslate\" style=\"background-color: transparent; padding: 0px 1px; font-size: 19.3px; font-family: monospace, sans-serif; font-weight: normal; border-radius: 3px;\"><span class=\"pre\" style=\"hyphens: none;\">cycle()</span></code></a></p>\n",
    "</td>\n",
    "<td style=\"text-align: left; padding: 0.3em 0.5em; border: 1px solid #dddddd !important; border-radius: 3px; background-color: white;\">\n",
    "<p style=\"text-align: justify; hyphens: auto; margin-top: 0px; margin-bottom: 0px; line-height: 28px;\">p</p>\n",
    "</td>\n",
    "<td style=\"text-align: left; padding: 0.3em 0.5em; border: 1px solid #dddddd !important; border-radius: 3px; background-color: white;\">\n",
    "<p style=\"text-align: justify; hyphens: auto; margin-top: 0px; margin-bottom: 0px; line-height: 28px;\">p0, p1, … plast, p0, p1, …</p>\n",
    "</td>\n",
    "<td style=\"text-align: left; padding: 0.3em 0.5em; border: 1px solid #dddddd !important; border-radius: 3px; background-color: white;\">\n",
    "<p style=\"text-align: justify; hyphens: auto; margin-top: 0px; margin-bottom: 0px; line-height: 28px;\"><code class=\"docutils literal notranslate\" style=\"background-color: #ecf0f3; padding: 0px 1px; font-size: 19.3px; font-family: monospace, sans-serif; border-radius: 3px;\"><span class=\"pre\" style=\"hyphens: none;\">cycle('ABCD')</span><span> </span><span class=\"pre\" style=\"hyphens: none;\">--&gt;</span><span> </span><span class=\"pre\" style=\"hyphens: none;\">A</span><span> </span><span class=\"pre\" style=\"hyphens: none;\">B</span><span> </span><span class=\"pre\" style=\"hyphens: none;\">C</span><span> </span><span class=\"pre\" style=\"hyphens: none;\">D</span><span> </span><span class=\"pre\" style=\"hyphens: none;\">A</span><span> </span><span class=\"pre\" style=\"hyphens: none;\">B</span><span> </span><span class=\"pre\" style=\"hyphens: none;\">C</span><span> </span><span class=\"pre\" style=\"hyphens: none;\">D</span><span> </span><span class=\"pre\" style=\"hyphens: none;\">...</span></code></p>\n",
    "</td>\n",
    "</tr>\n",
    "<tr class=\"row-even\">\n",
    "<td style=\"text-align: left; padding: 0.3em 0.5em; border: 1px solid #dddddd !important; border-radius: 3px; background-color: white;\">\n",
    "<p style=\"text-align: justify; hyphens: auto; margin-top: 0px; margin-bottom: 0px; line-height: 28px;\"><a class=\"reference internal\" style=\"color: #0072aa; text-decoration: none;\" title=\"itertools.repeat\" href=\"https://docs.python.org/3.7/library/itertools.html?highlight=itertools#itertools.repeat\"><code class=\"xref py py-func docutils literal notranslate\" style=\"background-color: transparent; padding: 0px 1px; font-size: 19.3px; font-family: monospace, sans-serif; font-weight: normal; border-radius: 3px;\"><span class=\"pre\" style=\"hyphens: none;\">repeat()</span></code></a></p>\n",
    "</td>\n",
    "<td style=\"text-align: left; padding: 0.3em 0.5em; border: 1px solid #dddddd !important; border-radius: 3px; background-color: white;\">\n",
    "<p style=\"text-align: justify; hyphens: auto; margin-top: 0px; margin-bottom: 0px; line-height: 28px;\">elem [,n]</p>\n",
    "</td>\n",
    "<td style=\"text-align: left; padding: 0.3em 0.5em; border: 1px solid #dddddd !important; border-radius: 3px; background-color: white;\">\n",
    "<p style=\"text-align: justify; hyphens: auto; margin-top: 0px; margin-bottom: 0px; line-height: 28px;\">elem, elem, elem, … endlessly or up to n times</p>\n",
    "</td>\n",
    "<td style=\"text-align: left; padding: 0.3em 0.5em; border: 1px solid #dddddd !important; border-radius: 3px; background-color: white;\">\n",
    "<p style=\"text-align: justify; hyphens: auto; margin-top: 0px; margin-bottom: 0px; line-height: 28px;\"><code class=\"docutils literal notranslate\" style=\"background-color: #ecf0f3; padding: 0px 1px; font-size: 19.3px; font-family: monospace, sans-serif; border-radius: 3px;\"><span class=\"pre\" style=\"hyphens: none;\">repeat(10,</span><span> </span><span class=\"pre\" style=\"hyphens: none;\">3)</span><span> </span><span class=\"pre\" style=\"hyphens: none;\">--&gt;</span><span> </span><span class=\"pre\" style=\"hyphens: none;\">10</span><span> </span><span class=\"pre\" style=\"hyphens: none;\">10</span><span> </span><span class=\"pre\" style=\"hyphens: none;\">10</span></code></p>\n",
    "</td>\n",
    "</tr>\n",
    "</tbody>\n",
    "</table>\n",
    "<p style=\"hyphens: auto; text-align: justify; line-height: 28px; color: #222222; font-family: 'Lucida Grande', Arial, sans-serif; font-size: 20px; font-style: normal; font-variant-ligatures: normal; font-variant-caps: normal; font-weight: 400; letter-spacing: normal; orphans: 2; text-indent: 0px; text-transform: none; white-space: normal; widows: 2; word-spacing: 0px; -webkit-text-stroke-width: 0px; background-color: #ffffff; text-decoration-thickness: initial; text-decoration-style: initial; text-decoration-color: initial;\"><strong>Iterators terminating on the shortest input sequence:</strong></p>\n",
    "<table class=\"docutils align-default\" style=\"text-align: center; border: 1px solid #dddddd; border-collapse: collapse; margin: 10px auto; min-width: 20%; border-radius: 3px; color: #222222; font-family: 'Lucida Grande', Arial, sans-serif; font-size: 20px; font-style: normal; font-variant-ligatures: normal; font-variant-caps: normal; font-weight: 400; letter-spacing: normal; orphans: 2; text-transform: none; white-space: normal; widows: 2; word-spacing: 0px; -webkit-text-stroke-width: 0px; background-color: #ffffff; text-decoration-thickness: initial; text-decoration-style: initial; text-decoration-color: initial;\" border=\"0\"><colgroup><col style=\"width: 225.547px;\" /><col style=\"width: 126.578px;\" /><col style=\"width: 189.984px;\" /><col style=\"width: 282.422px;\" /></colgroup>\n",
    "<thead>\n",
    "<tr class=\"row-odd\">\n",
    "<th class=\"head\" style=\"text-align: left; padding: 0.3em 0.5em; background-color: #eeeeee; border: 1px solid #dddddd !important; border-radius: 3px;\">\n",
    "<p style=\"text-align: justify; hyphens: auto; margin-top: 0px; margin-bottom: 0px; line-height: 28px;\">Iterator</p>\n",
    "</th>\n",
    "<th class=\"head\" style=\"text-align: left; padding: 0.3em 0.5em; background-color: #eeeeee; border: 1px solid #dddddd !important; border-radius: 3px;\">\n",
    "<p style=\"text-align: justify; hyphens: auto; margin-top: 0px; margin-bottom: 0px; line-height: 28px;\">Arguments</p>\n",
    "</th>\n",
    "<th class=\"head\" style=\"text-align: left; padding: 0.3em 0.5em; background-color: #eeeeee; border: 1px solid #dddddd !important; border-radius: 3px;\">\n",
    "<p style=\"text-align: justify; hyphens: auto; margin-top: 0px; margin-bottom: 0px; line-height: 28px;\">Results</p>\n",
    "</th>\n",
    "<th class=\"head\" style=\"text-align: left; padding: 0.3em 0.5em; background-color: #eeeeee; border: 1px solid #dddddd !important; border-radius: 3px;\">\n",
    "<p style=\"text-align: justify; hyphens: auto; margin-top: 0px; margin-bottom: 0px; line-height: 28px;\">Example</p>\n",
    "</th>\n",
    "</tr>\n",
    "</thead>\n",
    "<tbody>\n",
    "<tr class=\"row-even\">\n",
    "<td style=\"text-align: left; padding: 0.3em 0.5em; border: 1px solid #dddddd !important; border-radius: 3px; background-color: white;\">\n",
    "<p style=\"text-align: justify; hyphens: auto; margin-top: 0px; margin-bottom: 0px; line-height: 28px;\"><a class=\"reference internal\" style=\"color: #0072aa; text-decoration: none;\" title=\"itertools.accumulate\" href=\"https://docs.python.org/3.7/library/itertools.html?highlight=itertools#itertools.accumulate\"><code class=\"xref py py-func docutils literal notranslate\" style=\"background-color: transparent; padding: 0px 1px; font-size: 19.3px; font-family: monospace, sans-serif; font-weight: normal; border-radius: 3px;\"><span class=\"pre\" style=\"hyphens: none;\">accumulate()</span></code></a></p>\n",
    "</td>\n",
    "<td style=\"text-align: left; padding: 0.3em 0.5em; border: 1px solid #dddddd !important; border-radius: 3px; background-color: white;\">\n",
    "<p style=\"text-align: justify; hyphens: auto; margin-top: 0px; margin-bottom: 0px; line-height: 28px;\">p [,func]</p>\n",
    "</td>\n",
    "<td style=\"text-align: left; padding: 0.3em 0.5em; border: 1px solid #dddddd !important; border-radius: 3px; background-color: white;\">\n",
    "<p style=\"text-align: justify; hyphens: auto; margin-top: 0px; margin-bottom: 0px; line-height: 28px;\">p0, p0+p1, p0+p1+p2, …</p>\n",
    "</td>\n",
    "<td style=\"text-align: left; padding: 0.3em 0.5em; border: 1px solid #dddddd !important; border-radius: 3px; background-color: white;\">\n",
    "<p style=\"text-align: justify; hyphens: auto; margin-top: 0px; margin-bottom: 0px; line-height: 28px;\"><code class=\"docutils literal notranslate\" style=\"background-color: #ecf0f3; padding: 0px 1px; font-size: 19.3px; font-family: monospace, sans-serif; border-radius: 3px;\"><span class=\"pre\" style=\"hyphens: none;\">accumulate([1,2,3,4,5])</span><span> </span><span class=\"pre\" style=\"hyphens: none;\">--&gt;</span><span> </span><span class=\"pre\" style=\"hyphens: none;\">1</span><span> </span><span class=\"pre\" style=\"hyphens: none;\">3</span><span> </span><span class=\"pre\" style=\"hyphens: none;\">6</span><span> </span><span class=\"pre\" style=\"hyphens: none;\">10</span><span> </span><span class=\"pre\" style=\"hyphens: none;\">15</span></code></p>\n",
    "</td>\n",
    "</tr>\n",
    "<tr class=\"row-odd\">\n",
    "<td style=\"text-align: left; padding: 0.3em 0.5em; border: 1px solid #dddddd !important; border-radius: 3px; background-color: white;\">\n",
    "<p style=\"text-align: justify; hyphens: auto; margin-top: 0px; margin-bottom: 0px; line-height: 28px;\"><a class=\"reference internal\" style=\"color: #0072aa; text-decoration: none;\" title=\"itertools.chain\" href=\"https://docs.python.org/3.7/library/itertools.html?highlight=itertools#itertools.chain\"><code class=\"xref py py-func docutils literal notranslate\" style=\"background-color: transparent; padding: 0px 1px; font-size: 19.3px; font-family: monospace, sans-serif; font-weight: normal; border-radius: 3px;\"><span class=\"pre\" style=\"hyphens: none;\">chain()</span></code></a></p>\n",
    "</td>\n",
    "<td style=\"text-align: left; padding: 0.3em 0.5em; border: 1px solid #dddddd !important; border-radius: 3px; background-color: white;\">\n",
    "<p style=\"text-align: justify; hyphens: auto; margin-top: 0px; margin-bottom: 0px; line-height: 28px;\">p, q, …</p>\n",
    "</td>\n",
    "<td style=\"text-align: left; padding: 0.3em 0.5em; border: 1px solid #dddddd !important; border-radius: 3px; background-color: white;\">\n",
    "<p style=\"text-align: justify; hyphens: auto; margin-top: 0px; margin-bottom: 0px; line-height: 28px;\">p0, p1, … plast, q0, q1, …</p>\n",
    "</td>\n",
    "<td style=\"text-align: left; padding: 0.3em 0.5em; border: 1px solid #dddddd !important; border-radius: 3px; background-color: white;\">\n",
    "<p style=\"text-align: justify; hyphens: auto; margin-top: 0px; margin-bottom: 0px; line-height: 28px;\"><code class=\"docutils literal notranslate\" style=\"background-color: #ecf0f3; padding: 0px 1px; font-size: 19.3px; font-family: monospace, sans-serif; border-radius: 3px;\"><span class=\"pre\" style=\"hyphens: none;\">chain('ABC',</span><span> </span><span class=\"pre\" style=\"hyphens: none;\">'DEF')</span><span> </span><span class=\"pre\" style=\"hyphens: none;\">--&gt;</span><span> </span><span class=\"pre\" style=\"hyphens: none;\">A</span><span> </span><span class=\"pre\" style=\"hyphens: none;\">B</span><span> </span><span class=\"pre\" style=\"hyphens: none;\">C</span><span> </span><span class=\"pre\" style=\"hyphens: none;\">D</span><span> </span><span class=\"pre\" style=\"hyphens: none;\">E</span><span> </span><span class=\"pre\" style=\"hyphens: none;\">F</span></code></p>\n",
    "</td>\n",
    "</tr>\n",
    "<tr class=\"row-even\">\n",
    "<td style=\"text-align: left; padding: 0.3em 0.5em; border: 1px solid #dddddd !important; border-radius: 3px; background-color: white;\">\n",
    "<p style=\"text-align: justify; hyphens: auto; margin-top: 0px; margin-bottom: 0px; line-height: 28px;\"><a class=\"reference internal\" style=\"color: #0072aa; text-decoration: none;\" title=\"itertools.chain.from_iterable\" href=\"https://docs.python.org/3.7/library/itertools.html?highlight=itertools#itertools.chain.from_iterable\"><code class=\"xref py py-func docutils literal notranslate\" style=\"background-color: transparent; padding: 0px 1px; font-size: 19.3px; font-family: monospace, sans-serif; font-weight: normal; border-radius: 3px;\"><span class=\"pre\" style=\"hyphens: none;\">chain.from_iterable()</span></code></a></p>\n",
    "</td>\n",
    "<td style=\"text-align: left; padding: 0.3em 0.5em; border: 1px solid #dddddd !important; border-radius: 3px; background-color: white;\">\n",
    "<p style=\"text-align: justify; hyphens: auto; margin-top: 0px; margin-bottom: 0px; line-height: 28px;\">iterable</p>\n",
    "</td>\n",
    "<td style=\"text-align: left; padding: 0.3em 0.5em; border: 1px solid #dddddd !important; border-radius: 3px; background-color: white;\">\n",
    "<p style=\"text-align: justify; hyphens: auto; margin-top: 0px; margin-bottom: 0px; line-height: 28px;\">p0, p1, … plast, q0, q1, …</p>\n",
    "</td>\n",
    "<td style=\"text-align: left; padding: 0.3em 0.5em; border: 1px solid #dddddd !important; border-radius: 3px; background-color: white;\">\n",
    "<p style=\"text-align: justify; hyphens: auto; margin-top: 0px; margin-bottom: 0px; line-height: 28px;\"><code class=\"docutils literal notranslate\" style=\"background-color: #ecf0f3; padding: 0px 1px; font-size: 19.3px; font-family: monospace, sans-serif; border-radius: 3px;\"><span class=\"pre\" style=\"hyphens: none;\">chain.from_iterable(['ABC',</span><span> </span><span class=\"pre\" style=\"hyphens: none;\">'DEF'])</span><span> </span><span class=\"pre\" style=\"hyphens: none;\">--&gt;</span><span> </span><span class=\"pre\" style=\"hyphens: none;\">A</span><span> </span><span class=\"pre\" style=\"hyphens: none;\">B</span><span> </span><span class=\"pre\" style=\"hyphens: none;\">C</span><span> </span><span class=\"pre\" style=\"hyphens: none;\">D</span><span> </span><span class=\"pre\" style=\"hyphens: none;\">E</span><span> </span><span class=\"pre\" style=\"hyphens: none;\">F</span></code></p>\n",
    "</td>\n",
    "</tr>\n",
    "<tr class=\"row-odd\">\n",
    "<td style=\"text-align: left; padding: 0.3em 0.5em; border: 1px solid #dddddd !important; border-radius: 3px; background-color: white;\">\n",
    "<p style=\"text-align: justify; hyphens: auto; margin-top: 0px; margin-bottom: 0px; line-height: 28px;\"><a class=\"reference internal\" style=\"color: #0072aa; text-decoration: none;\" title=\"itertools.compress\" href=\"https://docs.python.org/3.7/library/itertools.html?highlight=itertools#itertools.compress\"><code class=\"xref py py-func docutils literal notranslate\" style=\"background-color: transparent; padding: 0px 1px; font-size: 19.3px; font-family: monospace, sans-serif; font-weight: normal; border-radius: 3px;\"><span class=\"pre\" style=\"hyphens: none;\">compress()</span></code></a></p>\n",
    "</td>\n",
    "<td style=\"text-align: left; padding: 0.3em 0.5em; border: 1px solid #dddddd !important; border-radius: 3px; background-color: white;\">\n",
    "<p style=\"text-align: justify; hyphens: auto; margin-top: 0px; margin-bottom: 0px; line-height: 28px;\">data, selectors</p>\n",
    "</td>\n",
    "<td style=\"text-align: left; padding: 0.3em 0.5em; border: 1px solid #dddddd !important; border-radius: 3px; background-color: white;\">\n",
    "<p style=\"text-align: justify; hyphens: auto; margin-top: 0px; margin-bottom: 0px; line-height: 28px;\">(d[0] if s[0]), (d[1] if s[1]), …</p>\n",
    "</td>\n",
    "<td style=\"text-align: left; padding: 0.3em 0.5em; border: 1px solid #dddddd !important; border-radius: 3px; background-color: white;\">\n",
    "<p style=\"text-align: justify; hyphens: auto; margin-top: 0px; margin-bottom: 0px; line-height: 28px;\"><code class=\"docutils literal notranslate\" style=\"background-color: #ecf0f3; padding: 0px 1px; font-size: 19.3px; font-family: monospace, sans-serif; border-radius: 3px;\"><span class=\"pre\" style=\"hyphens: none;\">compress('ABCDEF',</span><span> </span><span class=\"pre\" style=\"hyphens: none;\">[1,0,1,0,1,1])</span><span> </span><span class=\"pre\" style=\"hyphens: none;\">--&gt;</span><span> </span><span class=\"pre\" style=\"hyphens: none;\">A</span><span> </span><span class=\"pre\" style=\"hyphens: none;\">C</span><span> </span><span class=\"pre\" style=\"hyphens: none;\">E</span><span> </span><span class=\"pre\" style=\"hyphens: none;\">F</span></code></p>\n",
    "</td>\n",
    "</tr>\n",
    "<tr class=\"row-even\">\n",
    "<td style=\"text-align: left; padding: 0.3em 0.5em; border: 1px solid #dddddd !important; border-radius: 3px; background-color: white;\">\n",
    "<p style=\"text-align: justify; hyphens: auto; margin-top: 0px; margin-bottom: 0px; line-height: 28px;\"><a class=\"reference internal\" style=\"color: #0072aa; text-decoration: none;\" title=\"itertools.dropwhile\" href=\"https://docs.python.org/3.7/library/itertools.html?highlight=itertools#itertools.dropwhile\"><code class=\"xref py py-func docutils literal notranslate\" style=\"background-color: transparent; padding: 0px 1px; font-size: 19.3px; font-family: monospace, sans-serif; font-weight: normal; border-radius: 3px;\"><span class=\"pre\" style=\"hyphens: none;\">dropwhile()</span></code></a></p>\n",
    "</td>\n",
    "<td style=\"text-align: left; padding: 0.3em 0.5em; border: 1px solid #dddddd !important; border-radius: 3px; background-color: white;\">\n",
    "<p style=\"text-align: justify; hyphens: auto; margin-top: 0px; margin-bottom: 0px; line-height: 28px;\">pred, seq</p>\n",
    "</td>\n",
    "<td style=\"text-align: left; padding: 0.3em 0.5em; border: 1px solid #dddddd !important; border-radius: 3px; background-color: white;\">\n",
    "<p style=\"text-align: justify; hyphens: auto; margin-top: 0px; margin-bottom: 0px; line-height: 28px;\">seq[n], seq[n+1], starting when pred fails</p>\n",
    "</td>\n",
    "<td style=\"text-align: left; padding: 0.3em 0.5em; border: 1px solid #dddddd !important; border-radius: 3px; background-color: white;\">\n",
    "<p style=\"text-align: justify; hyphens: auto; margin-top: 0px; margin-bottom: 0px; line-height: 28px;\"><code class=\"docutils literal notranslate\" style=\"background-color: #ecf0f3; padding: 0px 1px; font-size: 19.3px; font-family: monospace, sans-serif; border-radius: 3px;\"><span class=\"pre\" style=\"hyphens: none;\">dropwhile(lambda</span><span> </span><span class=\"pre\" style=\"hyphens: none;\">x:</span><span> </span><span class=\"pre\" style=\"hyphens: none;\">x&lt;5,</span><span> </span><span class=\"pre\" style=\"hyphens: none;\">[1,4,6,4,1])</span><span> </span><span class=\"pre\" style=\"hyphens: none;\">--&gt;</span><span> </span><span class=\"pre\" style=\"hyphens: none;\">6</span><span> </span><span class=\"pre\" style=\"hyphens: none;\">4</span><span> </span><span class=\"pre\" style=\"hyphens: none;\">1</span></code></p>\n",
    "</td>\n",
    "</tr>\n",
    "<tr class=\"row-odd\">\n",
    "<td style=\"text-align: left; padding: 0.3em 0.5em; border: 1px solid #dddddd !important; border-radius: 3px; background-color: white;\">\n",
    "<p style=\"text-align: justify; hyphens: auto; margin-top: 0px; margin-bottom: 0px; line-height: 28px;\"><a class=\"reference internal\" style=\"color: #0072aa; text-decoration: none;\" title=\"itertools.filterfalse\" href=\"https://docs.python.org/3.7/library/itertools.html?highlight=itertools#itertools.filterfalse\"><code class=\"xref py py-func docutils literal notranslate\" style=\"background-color: transparent; padding: 0px 1px; font-size: 19.3px; font-family: monospace, sans-serif; font-weight: normal; border-radius: 3px;\"><span class=\"pre\" style=\"hyphens: none;\">filterfalse()</span></code></a></p>\n",
    "</td>\n",
    "<td style=\"text-align: left; padding: 0.3em 0.5em; border: 1px solid #dddddd !important; border-radius: 3px; background-color: white;\">\n",
    "<p style=\"text-align: justify; hyphens: auto; margin-top: 0px; margin-bottom: 0px; line-height: 28px;\">pred, seq</p>\n",
    "</td>\n",
    "<td style=\"text-align: left; padding: 0.3em 0.5em; border: 1px solid #dddddd !important; border-radius: 3px; background-color: white;\">\n",
    "<p style=\"text-align: justify; hyphens: auto; margin-top: 0px; margin-bottom: 0px; line-height: 28px;\">elements of seq where pred(elem) is false</p>\n",
    "</td>\n",
    "<td style=\"text-align: left; padding: 0.3em 0.5em; border: 1px solid #dddddd !important; border-radius: 3px; background-color: white;\">\n",
    "<p style=\"text-align: justify; hyphens: auto; margin-top: 0px; margin-bottom: 0px; line-height: 28px;\"><code class=\"docutils literal notranslate\" style=\"background-color: #ecf0f3; padding: 0px 1px; font-size: 19.3px; font-family: monospace, sans-serif; border-radius: 3px;\"><span class=\"pre\" style=\"hyphens: none;\">filterfalse(lambda</span><span> </span><span class=\"pre\" style=\"hyphens: none;\">x:</span><span> </span><span class=\"pre\" style=\"hyphens: none;\">x%2,</span><span> </span><span class=\"pre\" style=\"hyphens: none;\">range(10))</span><span> </span><span class=\"pre\" style=\"hyphens: none;\">--&gt;</span><span> </span><span class=\"pre\" style=\"hyphens: none;\">0</span><span> </span><span class=\"pre\" style=\"hyphens: none;\">2</span><span> </span><span class=\"pre\" style=\"hyphens: none;\">4</span><span> </span><span class=\"pre\" style=\"hyphens: none;\">6</span><span> </span><span class=\"pre\" style=\"hyphens: none;\">8</span></code></p>\n",
    "</td>\n",
    "</tr>\n",
    "<tr class=\"row-even\">\n",
    "<td style=\"text-align: left; padding: 0.3em 0.5em; border: 1px solid #dddddd !important; border-radius: 3px; background-color: white;\">\n",
    "<p style=\"text-align: justify; hyphens: auto; margin-top: 0px; margin-bottom: 0px; line-height: 28px;\"><a class=\"reference internal\" style=\"color: #0072aa; text-decoration: none;\" title=\"itertools.groupby\" href=\"https://docs.python.org/3.7/library/itertools.html?highlight=itertools#itertools.groupby\"><code class=\"xref py py-func docutils literal notranslate\" style=\"background-color: transparent; padding: 0px 1px; font-size: 19.3px; font-family: monospace, sans-serif; font-weight: normal; border-radius: 3px;\"><span class=\"pre\" style=\"hyphens: none;\">groupby()</span></code></a></p>\n",
    "</td>\n",
    "<td style=\"text-align: left; padding: 0.3em 0.5em; border: 1px solid #dddddd !important; border-radius: 3px; background-color: white;\">\n",
    "<p style=\"text-align: justify; hyphens: auto; margin-top: 0px; margin-bottom: 0px; line-height: 28px;\">iterable[, key]</p>\n",
    "</td>\n",
    "<td style=\"text-align: left; padding: 0.3em 0.5em; border: 1px solid #dddddd !important; border-radius: 3px; background-color: white;\">\n",
    "<p style=\"text-align: justify; hyphens: auto; margin-top: 0px; margin-bottom: 0px; line-height: 28px;\">sub-iterators grouped by value of key(v)</p>\n",
    "</td>\n",
    "<td style=\"text-align: left; padding: 0.3em 0.5em; border: 1px solid #dddddd !important; border-radius: 3px; background-color: white;\"> </td>\n",
    "</tr>\n",
    "<tr class=\"row-odd\">\n",
    "<td style=\"text-align: left; padding: 0.3em 0.5em; border: 1px solid #dddddd !important; border-radius: 3px; background-color: white;\">\n",
    "<p style=\"text-align: justify; hyphens: auto; margin-top: 0px; margin-bottom: 0px; line-height: 28px;\"><a class=\"reference internal\" style=\"color: #0072aa; text-decoration: none;\" title=\"itertools.islice\" href=\"https://docs.python.org/3.7/library/itertools.html?highlight=itertools#itertools.islice\"><code class=\"xref py py-func docutils literal notranslate\" style=\"background-color: transparent; padding: 0px 1px; font-size: 19.3px; font-family: monospace, sans-serif; font-weight: normal; border-radius: 3px;\"><span class=\"pre\" style=\"hyphens: none;\">islice()</span></code></a></p>\n",
    "</td>\n",
    "<td style=\"text-align: left; padding: 0.3em 0.5em; border: 1px solid #dddddd !important; border-radius: 3px; background-color: white;\">\n",
    "<p style=\"text-align: justify; hyphens: auto; margin-top: 0px; margin-bottom: 0px; line-height: 28px;\">seq, [start,] stop [, step]</p>\n",
    "</td>\n",
    "<td style=\"text-align: left; padding: 0.3em 0.5em; border: 1px solid #dddddd !important; border-radius: 3px; background-color: white;\">\n",
    "<p style=\"text-align: justify; hyphens: auto; margin-top: 0px; margin-bottom: 0px; line-height: 28px;\">elements from seq[start:stop:step]</p>\n",
    "</td>\n",
    "<td style=\"text-align: left; padding: 0.3em 0.5em; border: 1px solid #dddddd !important; border-radius: 3px; background-color: white;\">\n",
    "<p style=\"text-align: justify; hyphens: auto; margin-top: 0px; margin-bottom: 0px; line-height: 28px;\"><code class=\"docutils literal notranslate\" style=\"background-color: #ecf0f3; padding: 0px 1px; font-size: 19.3px; font-family: monospace, sans-serif; border-radius: 3px;\"><span class=\"pre\" style=\"hyphens: none;\">islice('ABCDEFG',</span><span> </span><span class=\"pre\" style=\"hyphens: none;\">2,</span><span> </span><span class=\"pre\" style=\"hyphens: none;\">None)</span><span> </span><span class=\"pre\" style=\"hyphens: none;\">--&gt;</span><span> </span><span class=\"pre\" style=\"hyphens: none;\">C</span><span> </span><span class=\"pre\" style=\"hyphens: none;\">D</span><span> </span><span class=\"pre\" style=\"hyphens: none;\">E</span><span> </span><span class=\"pre\" style=\"hyphens: none;\">F</span><span> </span><span class=\"pre\" style=\"hyphens: none;\">G</span></code></p>\n",
    "</td>\n",
    "</tr>\n",
    "<tr class=\"row-even\">\n",
    "<td style=\"text-align: left; padding: 0.3em 0.5em; border: 1px solid #dddddd !important; border-radius: 3px; background-color: white;\">\n",
    "<p style=\"text-align: justify; hyphens: auto; margin-top: 0px; margin-bottom: 0px; line-height: 28px;\"><a class=\"reference internal\" style=\"color: #0072aa; text-decoration: none;\" title=\"itertools.starmap\" href=\"https://docs.python.org/3.7/library/itertools.html?highlight=itertools#itertools.starmap\"><code class=\"xref py py-func docutils literal notranslate\" style=\"background-color: transparent; padding: 0px 1px; font-size: 19.3px; font-family: monospace, sans-serif; font-weight: normal; border-radius: 3px;\"><span class=\"pre\" style=\"hyphens: none;\">starmap()</span></code></a></p>\n",
    "</td>\n",
    "<td style=\"text-align: left; padding: 0.3em 0.5em; border: 1px solid #dddddd !important; border-radius: 3px; background-color: white;\">\n",
    "<p style=\"text-align: justify; hyphens: auto; margin-top: 0px; margin-bottom: 0px; line-height: 28px;\">func, seq</p>\n",
    "</td>\n",
    "<td style=\"text-align: left; padding: 0.3em 0.5em; border: 1px solid #dddddd !important; border-radius: 3px; background-color: white;\">\n",
    "<p style=\"text-align: justify; hyphens: auto; margin-top: 0px; margin-bottom: 0px; line-height: 28px;\">func(*seq[0]), func(*seq[1]), …</p>\n",
    "</td>\n",
    "<td style=\"text-align: left; padding: 0.3em 0.5em; border: 1px solid #dddddd !important; border-radius: 3px; background-color: white;\">\n",
    "<p style=\"text-align: justify; hyphens: auto; margin-top: 0px; margin-bottom: 0px; line-height: 28px;\"><code class=\"docutils literal notranslate\" style=\"background-color: #ecf0f3; padding: 0px 1px; font-size: 19.3px; font-family: monospace, sans-serif; border-radius: 3px;\"><span class=\"pre\" style=\"hyphens: none;\">starmap(pow,</span><span> </span><span class=\"pre\" style=\"hyphens: none;\">[(2,5),</span><span> </span><span class=\"pre\" style=\"hyphens: none;\">(3,2),</span><span> </span><span class=\"pre\" style=\"hyphens: none;\">(10,3)])</span><span> </span><span class=\"pre\" style=\"hyphens: none;\">--&gt;</span><span> </span><span class=\"pre\" style=\"hyphens: none;\">32</span><span> </span><span class=\"pre\" style=\"hyphens: none;\">9</span><span> </span><span class=\"pre\" style=\"hyphens: none;\">1000</span></code></p>\n",
    "</td>\n",
    "</tr>\n",
    "<tr class=\"row-odd\">\n",
    "<td style=\"text-align: left; padding: 0.3em 0.5em; border: 1px solid #dddddd !important; border-radius: 3px; background-color: white;\">\n",
    "<p style=\"text-align: justify; hyphens: auto; margin-top: 0px; margin-bottom: 0px; line-height: 28px;\"><a class=\"reference internal\" style=\"color: #0072aa; text-decoration: none;\" title=\"itertools.takewhile\" href=\"https://docs.python.org/3.7/library/itertools.html?highlight=itertools#itertools.takewhile\"><code class=\"xref py py-func docutils literal notranslate\" style=\"background-color: transparent; padding: 0px 1px; font-size: 19.3px; font-family: monospace, sans-serif; font-weight: normal; border-radius: 3px;\"><span class=\"pre\" style=\"hyphens: none;\">takewhile()</span></code></a></p>\n",
    "</td>\n",
    "<td style=\"text-align: left; padding: 0.3em 0.5em; border: 1px solid #dddddd !important; border-radius: 3px; background-color: white;\">\n",
    "<p style=\"text-align: justify; hyphens: auto; margin-top: 0px; margin-bottom: 0px; line-height: 28px;\">pred, seq</p>\n",
    "</td>\n",
    "<td style=\"text-align: left; padding: 0.3em 0.5em; border: 1px solid #dddddd !important; border-radius: 3px; background-color: white;\">\n",
    "<p style=\"text-align: justify; hyphens: auto; margin-top: 0px; margin-bottom: 0px; line-height: 28px;\">seq[0], seq[1], until pred fails</p>\n",
    "</td>\n",
    "<td style=\"text-align: left; padding: 0.3em 0.5em; border: 1px solid #dddddd !important; border-radius: 3px; background-color: white;\">\n",
    "<p style=\"text-align: justify; hyphens: auto; margin-top: 0px; margin-bottom: 0px; line-height: 28px;\"><code class=\"docutils literal notranslate\" style=\"background-color: #ecf0f3; padding: 0px 1px; font-size: 19.3px; font-family: monospace, sans-serif; border-radius: 3px;\"><span class=\"pre\" style=\"hyphens: none;\">takewhile(lambda</span><span> </span><span class=\"pre\" style=\"hyphens: none;\">x:</span><span> </span><span class=\"pre\" style=\"hyphens: none;\">x&lt;5,</span><span> </span><span class=\"pre\" style=\"hyphens: none;\">[1,4,6,4,1])</span><span> </span><span class=\"pre\" style=\"hyphens: none;\">--&gt;</span><span> </span><span class=\"pre\" style=\"hyphens: none;\">1</span><span> </span><span class=\"pre\" style=\"hyphens: none;\">4</span></code></p>\n",
    "</td>\n",
    "</tr>\n",
    "<tr class=\"row-even\">\n",
    "<td style=\"text-align: left; padding: 0.3em 0.5em; border: 1px solid #dddddd !important; border-radius: 3px; background-color: white;\">\n",
    "<p style=\"text-align: justify; hyphens: auto; margin-top: 0px; margin-bottom: 0px; line-height: 28px;\"><a class=\"reference internal\" style=\"color: #0072aa; text-decoration: none;\" title=\"itertools.tee\" href=\"https://docs.python.org/3.7/library/itertools.html?highlight=itertools#itertools.tee\"><code class=\"xref py py-func docutils literal notranslate\" style=\"background-color: transparent; padding: 0px 1px; font-size: 19.3px; font-family: monospace, sans-serif; font-weight: normal; border-radius: 3px;\"><span class=\"pre\" style=\"hyphens: none;\">tee()</span></code></a></p>\n",
    "</td>\n",
    "<td style=\"text-align: left; padding: 0.3em 0.5em; border: 1px solid #dddddd !important; border-radius: 3px; background-color: white;\">\n",
    "<p style=\"text-align: justify; hyphens: auto; margin-top: 0px; margin-bottom: 0px; line-height: 28px;\">it, n</p>\n",
    "</td>\n",
    "<td style=\"text-align: left; padding: 0.3em 0.5em; border: 1px solid #dddddd !important; border-radius: 3px; background-color: white;\">\n",
    "<p style=\"text-align: justify; hyphens: auto; margin-top: 0px; margin-bottom: 0px; line-height: 28px;\">it1, it2, … itn splits one iterator into n</p>\n",
    "</td>\n",
    "<td style=\"text-align: left; padding: 0.3em 0.5em; border: 1px solid #dddddd !important; border-radius: 3px; background-color: white;\"> </td>\n",
    "</tr>\n",
    "<tr class=\"row-odd\">\n",
    "<td style=\"text-align: left; padding: 0.3em 0.5em; border: 1px solid #dddddd !important; border-radius: 3px; background-color: white;\">\n",
    "<p style=\"text-align: justify; hyphens: auto; margin-top: 0px; margin-bottom: 0px; line-height: 28px;\"><a class=\"reference internal\" style=\"color: #0072aa; text-decoration: none;\" title=\"itertools.zip_longest\" href=\"https://docs.python.org/3.7/library/itertools.html?highlight=itertools#itertools.zip_longest\"><code class=\"xref py py-func docutils literal notranslate\" style=\"background-color: transparent; padding: 0px 1px; font-size: 19.3px; font-family: monospace, sans-serif; font-weight: normal; border-radius: 3px;\"><span class=\"pre\" style=\"hyphens: none;\">zip_longest()</span></code></a></p>\n",
    "</td>\n",
    "<td style=\"text-align: left; padding: 0.3em 0.5em; border: 1px solid #dddddd !important; border-radius: 3px; background-color: white;\">\n",
    "<p style=\"text-align: justify; hyphens: auto; margin-top: 0px; margin-bottom: 0px; line-height: 28px;\">p, q, …</p>\n",
    "</td>\n",
    "<td style=\"text-align: left; padding: 0.3em 0.5em; border: 1px solid #dddddd !important; border-radius: 3px; background-color: white;\">\n",
    "<p style=\"text-align: justify; hyphens: auto; margin-top: 0px; margin-bottom: 0px; line-height: 28px;\">(p[0], q[0]), (p[1], q[1]), …</p>\n",
    "</td>\n",
    "<td style=\"text-align: left; padding: 0.3em 0.5em; border: 1px solid #dddddd !important; border-radius: 3px; background-color: white;\">\n",
    "<p style=\"text-align: justify; hyphens: auto; margin-top: 0px; margin-bottom: 0px; line-height: 28px;\"><code class=\"docutils literal notranslate\" style=\"background-color: #ecf0f3; padding: 0px 1px; font-size: 19.3px; font-family: monospace, sans-serif; border-radius: 3px;\"><span class=\"pre\" style=\"hyphens: none;\">zip_longest('ABCD',</span><span> </span><span class=\"pre\" style=\"hyphens: none;\">'xy',</span><span> </span><span class=\"pre\" style=\"hyphens: none;\">fillvalue='-')</span><span> </span><span class=\"pre\" style=\"hyphens: none;\">--&gt;</span><span> </span><span class=\"pre\" style=\"hyphens: none;\">Ax</span><span> </span><span class=\"pre\" style=\"hyphens: none;\">By</span><span> </span><span class=\"pre\" style=\"hyphens: none;\">C-</span><span> </span><span class=\"pre\" style=\"hyphens: none;\">D-</span></code></p>\n",
    "</td>\n",
    "</tr>\n",
    "</tbody>\n",
    "</table>\n",
    "<p style=\"hyphens: auto; text-align: justify; line-height: 28px; color: #222222; font-family: 'Lucida Grande', Arial, sans-serif; font-size: 20px; font-style: normal; font-variant-ligatures: normal; font-variant-caps: normal; font-weight: 400; letter-spacing: normal; orphans: 2; text-indent: 0px; text-transform: none; white-space: normal; widows: 2; word-spacing: 0px; -webkit-text-stroke-width: 0px; background-color: #ffffff; text-decoration-thickness: initial; text-decoration-style: initial; text-decoration-color: initial;\"><strong>Combinatoric iterators:</strong></p>\n",
    "<table class=\"docutils align-default\" style=\"text-align: center; border: 1px solid #dddddd; border-collapse: collapse; margin: 10px auto; min-width: 20%; border-radius: 3px; color: #222222; font-family: 'Lucida Grande', Arial, sans-serif; font-size: 20px; font-style: normal; font-variant-ligatures: normal; font-variant-caps: normal; font-weight: 400; letter-spacing: normal; orphans: 2; text-transform: none; white-space: normal; widows: 2; word-spacing: 0px; -webkit-text-stroke-width: 0px; background-color: #ffffff; text-decoration-thickness: initial; text-decoration-style: initial; text-decoration-color: initial;\" border=\"0\"><colgroup><col style=\"width: 378.875px;\" /><col style=\"width: 127.406px;\" /><col style=\"width: 292.719px;\" /></colgroup>\n",
    "<thead>\n",
    "<tr class=\"row-odd\">\n",
    "<th class=\"head\" style=\"text-align: left; padding: 0.3em 0.5em; background-color: #eeeeee; border: 1px solid #dddddd !important; border-radius: 3px;\">\n",
    "<p style=\"text-align: justify; hyphens: auto; margin-top: 0px; margin-bottom: 0px; line-height: 28px;\">Iterator</p>\n",
    "</th>\n",
    "<th class=\"head\" style=\"text-align: left; padding: 0.3em 0.5em; background-color: #eeeeee; border: 1px solid #dddddd !important; border-radius: 3px;\">\n",
    "<p style=\"text-align: justify; hyphens: auto; margin-top: 0px; margin-bottom: 0px; line-height: 28px;\">Arguments</p>\n",
    "</th>\n",
    "<th class=\"head\" style=\"text-align: left; padding: 0.3em 0.5em; background-color: #eeeeee; border: 1px solid #dddddd !important; border-radius: 3px;\">\n",
    "<p style=\"text-align: justify; hyphens: auto; margin-top: 0px; margin-bottom: 0px; line-height: 28px;\">Results</p>\n",
    "</th>\n",
    "</tr>\n",
    "</thead>\n",
    "<tbody>\n",
    "<tr class=\"row-even\">\n",
    "<td style=\"text-align: left; padding: 0.3em 0.5em; border: 1px solid #dddddd !important; border-radius: 3px; background-color: white;\">\n",
    "<p style=\"text-align: justify; hyphens: auto; margin-top: 0px; margin-bottom: 0px; line-height: 28px;\"><a class=\"reference internal\" style=\"color: #0072aa; text-decoration: none;\" title=\"itertools.product\" href=\"https://docs.python.org/3.7/library/itertools.html?highlight=itertools#itertools.product\"><code class=\"xref py py-func docutils literal notranslate\" style=\"background-color: transparent; padding: 0px 1px; font-size: 19.3px; font-family: monospace, sans-serif; font-weight: normal; border-radius: 3px;\"><span class=\"pre\" style=\"hyphens: none;\">product()</span></code></a></p>\n",
    "</td>\n",
    "<td style=\"text-align: left; padding: 0.3em 0.5em; border: 1px solid #dddddd !important; border-radius: 3px; background-color: white;\">\n",
    "<p style=\"text-align: justify; hyphens: auto; margin-top: 0px; margin-bottom: 0px; line-height: 28px;\">p, q, … [repeat=1]</p>\n",
    "</td>\n",
    "<td style=\"text-align: left; padding: 0.3em 0.5em; border: 1px solid #dddddd !important; border-radius: 3px; background-color: white;\">\n",
    "<p style=\"text-align: justify; hyphens: auto; margin-top: 0px; margin-bottom: 0px; line-height: 28px;\">cartesian product, equivalent to a nested for-loop</p>\n",
    "</td>\n",
    "</tr>\n",
    "<tr class=\"row-odd\">\n",
    "<td style=\"text-align: left; padding: 0.3em 0.5em; border: 1px solid #dddddd !important; border-radius: 3px; background-color: white;\">\n",
    "<p style=\"text-align: justify; hyphens: auto; margin-top: 0px; margin-bottom: 0px; line-height: 28px;\"><a class=\"reference internal\" style=\"color: #0072aa; text-decoration: none;\" title=\"itertools.permutations\" href=\"https://docs.python.org/3.7/library/itertools.html?highlight=itertools#itertools.permutations\"><code class=\"xref py py-func docutils literal notranslate\" style=\"background-color: transparent; padding: 0px 1px; font-size: 19.3px; font-family: monospace, sans-serif; font-weight: normal; border-radius: 3px;\"><span class=\"pre\" style=\"hyphens: none;\">permutations()</span></code></a></p>\n",
    "</td>\n",
    "<td style=\"text-align: left; padding: 0.3em 0.5em; border: 1px solid #dddddd !important; border-radius: 3px; background-color: white;\">\n",
    "<p style=\"text-align: justify; hyphens: auto; margin-top: 0px; margin-bottom: 0px; line-height: 28px;\">p[, r]</p>\n",
    "</td>\n",
    "<td style=\"text-align: left; padding: 0.3em 0.5em; border: 1px solid #dddddd !important; border-radius: 3px; background-color: white;\">\n",
    "<p style=\"text-align: justify; hyphens: auto; margin-top: 0px; margin-bottom: 0px; line-height: 28px;\">r-length tuples, all possible orderings, no repeated elements</p>\n",
    "</td>\n",
    "</tr>\n",
    "<tr class=\"row-even\">\n",
    "<td style=\"text-align: left; padding: 0.3em 0.5em; border: 1px solid #dddddd !important; border-radius: 3px; background-color: white;\">\n",
    "<p style=\"text-align: justify; hyphens: auto; margin-top: 0px; margin-bottom: 0px; line-height: 28px;\"><a class=\"reference internal\" style=\"color: #0072aa; text-decoration: none;\" title=\"itertools.combinations\" href=\"https://docs.python.org/3.7/library/itertools.html?highlight=itertools#itertools.combinations\"><code class=\"xref py py-func docutils literal notranslate\" style=\"background-color: transparent; padding: 0px 1px; font-size: 19.3px; font-family: monospace, sans-serif; font-weight: normal; border-radius: 3px;\"><span class=\"pre\" style=\"hyphens: none;\">combinations()</span></code></a></p>\n",
    "</td>\n",
    "<td style=\"text-align: left; padding: 0.3em 0.5em; border: 1px solid #dddddd !important; border-radius: 3px; background-color: white;\">\n",
    "<p style=\"text-align: justify; hyphens: auto; margin-top: 0px; margin-bottom: 0px; line-height: 28px;\">p, r</p>\n",
    "</td>\n",
    "<td style=\"text-align: left; padding: 0.3em 0.5em; border: 1px solid #dddddd !important; border-radius: 3px; background-color: white;\">\n",
    "<p style=\"text-align: justify; hyphens: auto; margin-top: 0px; margin-bottom: 0px; line-height: 28px;\">r-length tuples, in sorted order, no repeated elements</p>\n",
    "</td>\n",
    "</tr>\n",
    "<tr class=\"row-odd\">\n",
    "<td style=\"text-align: left; padding: 0.3em 0.5em; border: 1px solid #dddddd !important; border-radius: 3px; background-color: white;\">\n",
    "<p style=\"text-align: justify; hyphens: auto; margin-top: 0px; margin-bottom: 0px; line-height: 28px;\"><a class=\"reference internal\" style=\"color: #0072aa; text-decoration: none;\" title=\"itertools.combinations_with_replacement\" href=\"https://docs.python.org/3.7/library/itertools.html?highlight=itertools#itertools.combinations_with_replacement\"><code class=\"xref py py-func docutils literal notranslate\" style=\"background-color: transparent; padding: 0px 1px; font-size: 19.3px; font-family: monospace, sans-serif; font-weight: normal; border-radius: 3px;\"><span class=\"pre\" style=\"hyphens: none;\">combinations_with_replacement()</span></code></a></p>\n",
    "</td>\n",
    "<td style=\"text-align: left; padding: 0.3em 0.5em; border: 1px solid #dddddd !important; border-radius: 3px; background-color: white;\">\n",
    "<p style=\"text-align: justify; hyphens: auto; margin-top: 0px; margin-bottom: 0px; line-height: 28px;\">p, r</p>\n",
    "</td>\n",
    "<td style=\"text-align: left; padding: 0.3em 0.5em; border: 1px solid #dddddd !important; border-radius: 3px; background-color: white;\">\n",
    "<p style=\"text-align: justify; hyphens: auto; margin-top: 0px; margin-bottom: 0px; line-height: 28px;\">r-length tuples, in sorted order, with repeated elements</p>\n",
    "</td>\n",
    "</tr>\n",
    "<tr class=\"row-even\">\n",
    "<td style=\"text-align: left; padding: 0.3em 0.5em; border: 1px solid #dddddd !important; border-radius: 3px; background-color: white;\">\n",
    "<p style=\"text-align: justify; hyphens: auto; margin-top: 0px; margin-bottom: 0px; line-height: 28px;\"><code class=\"docutils literal notranslate\" style=\"background-color: #ecf0f3; padding: 0px 1px; font-size: 19.3px; font-family: monospace, sans-serif; border-radius: 3px;\"><span class=\"pre\" style=\"hyphens: none;\">product('ABCD',</span><span> </span><span class=\"pre\" style=\"hyphens: none;\">repeat=2)</span></code></p>\n",
    "</td>\n",
    "<td style=\"text-align: left; padding: 0.3em 0.5em; border: 1px solid #dddddd !important; border-radius: 3px; background-color: white;\"> </td>\n",
    "<td style=\"text-align: left; padding: 0.3em 0.5em; border: 1px solid #dddddd !important; border-radius: 3px; background-color: white;\">\n",
    "<p style=\"text-align: justify; hyphens: auto; margin-top: 0px; margin-bottom: 0px; line-height: 28px;\"><code class=\"docutils literal notranslate\" style=\"background-color: #ecf0f3; padding: 0px 1px; font-size: 19.3px; font-family: monospace, sans-serif; border-radius: 3px;\"><span class=\"pre\" style=\"hyphens: none;\">AA</span><span> </span><span class=\"pre\" style=\"hyphens: none;\">AB</span><span> </span><span class=\"pre\" style=\"hyphens: none;\">AC</span><span> </span><span class=\"pre\" style=\"hyphens: none;\">AD</span><span> </span><span class=\"pre\" style=\"hyphens: none;\">BA</span><span> </span><span class=\"pre\" style=\"hyphens: none;\">BB</span><span> </span><span class=\"pre\" style=\"hyphens: none;\">BC</span><span> </span><span class=\"pre\" style=\"hyphens: none;\">BD</span><span> </span><span class=\"pre\" style=\"hyphens: none;\">CA</span><span> </span><span class=\"pre\" style=\"hyphens: none;\">CB</span><span> </span><span class=\"pre\" style=\"hyphens: none;\">CC</span><span> </span><span class=\"pre\" style=\"hyphens: none;\">CD</span><span> </span><span class=\"pre\" style=\"hyphens: none;\">DA</span><span> </span><span class=\"pre\" style=\"hyphens: none;\">DB</span><span> </span><span class=\"pre\" style=\"hyphens: none;\">DC</span><span> </span><span class=\"pre\" style=\"hyphens: none;\">DD</span></code></p>\n",
    "</td>\n",
    "</tr>\n",
    "<tr class=\"row-odd\">\n",
    "<td style=\"text-align: left; padding: 0.3em 0.5em; border: 1px solid #dddddd !important; border-radius: 3px; background-color: white;\">\n",
    "<p style=\"text-align: justify; hyphens: auto; margin-top: 0px; margin-bottom: 0px; line-height: 28px;\"><code class=\"docutils literal notranslate\" style=\"background-color: #ecf0f3; padding: 0px 1px; font-size: 19.3px; font-family: monospace, sans-serif; border-radius: 3px;\"><span class=\"pre\" style=\"hyphens: none;\">permutations('ABCD',</span><span> </span><span class=\"pre\" style=\"hyphens: none;\">2)</span></code></p>\n",
    "</td>\n",
    "<td style=\"text-align: left; padding: 0.3em 0.5em; border: 1px solid #dddddd !important; border-radius: 3px; background-color: white;\"> </td>\n",
    "<td style=\"text-align: left; padding: 0.3em 0.5em; border: 1px solid #dddddd !important; border-radius: 3px; background-color: white;\">\n",
    "<p style=\"text-align: justify; hyphens: auto; margin-top: 0px; margin-bottom: 0px; line-height: 28px;\"><code class=\"docutils literal notranslate\" style=\"background-color: #ecf0f3; padding: 0px 1px; font-size: 19.3px; font-family: monospace, sans-serif; border-radius: 3px;\"><span class=\"pre\" style=\"hyphens: none;\">AB</span><span> </span><span class=\"pre\" style=\"hyphens: none;\">AC</span><span> </span><span class=\"pre\" style=\"hyphens: none;\">AD</span><span> </span><span class=\"pre\" style=\"hyphens: none;\">BA</span><span> </span><span class=\"pre\" style=\"hyphens: none;\">BC</span><span> </span><span class=\"pre\" style=\"hyphens: none;\">BD</span><span> </span><span class=\"pre\" style=\"hyphens: none;\">CA</span><span> </span><span class=\"pre\" style=\"hyphens: none;\">CB</span><span> </span><span class=\"pre\" style=\"hyphens: none;\">CD</span><span> </span><span class=\"pre\" style=\"hyphens: none;\">DA</span><span> </span><span class=\"pre\" style=\"hyphens: none;\">DB</span><span> </span><span class=\"pre\" style=\"hyphens: none;\">DC</span></code></p>\n",
    "</td>\n",
    "</tr>\n",
    "<tr class=\"row-even\">\n",
    "<td style=\"text-align: left; padding: 0.3em 0.5em; border: 1px solid #dddddd !important; border-radius: 3px; background-color: white;\">\n",
    "<p style=\"text-align: justify; hyphens: auto; margin-top: 0px; margin-bottom: 0px; line-height: 28px;\"><code class=\"docutils literal notranslate\" style=\"background-color: #ecf0f3; padding: 0px 1px; font-size: 19.3px; font-family: monospace, sans-serif; border-radius: 3px;\"><span class=\"pre\" style=\"hyphens: none;\">combinations('ABCD',</span><span> </span><span class=\"pre\" style=\"hyphens: none;\">2)</span></code></p>\n",
    "</td>\n",
    "<td style=\"text-align: left; padding: 0.3em 0.5em; border: 1px solid #dddddd !important; border-radius: 3px; background-color: white;\"> </td>\n",
    "<td style=\"text-align: left; padding: 0.3em 0.5em; border: 1px solid #dddddd !important; border-radius: 3px; background-color: white;\">\n",
    "<p style=\"text-align: justify; hyphens: auto; margin-top: 0px; margin-bottom: 0px; line-height: 28px;\"><code class=\"docutils literal notranslate\" style=\"background-color: #ecf0f3; padding: 0px 1px; font-size: 19.3px; font-family: monospace, sans-serif; border-radius: 3px;\"><span class=\"pre\" style=\"hyphens: none;\">AB</span><span> </span><span class=\"pre\" style=\"hyphens: none;\">AC</span><span> </span><span class=\"pre\" style=\"hyphens: none;\">AD</span><span> </span><span class=\"pre\" style=\"hyphens: none;\">BC</span><span> </span><span class=\"pre\" style=\"hyphens: none;\">BD</span><span> </span><span class=\"pre\" style=\"hyphens: none;\">CD</span></code></p>\n",
    "</td>\n",
    "</tr>\n",
    "<tr class=\"row-odd\">\n",
    "<td style=\"text-align: left; padding: 0.3em 0.5em; border: 1px solid #dddddd !important; border-radius: 3px; background-color: white;\">\n",
    "<p style=\"text-align: justify; hyphens: auto; margin-top: 0px; margin-bottom: 0px; line-height: 28px;\"><code class=\"docutils literal notranslate\" style=\"background-color: #ecf0f3; padding: 0px 1px; font-size: 19.3px; font-family: monospace, sans-serif; border-radius: 3px;\"><span class=\"pre\" style=\"hyphens: none;\">combinations_with_replacement('ABCD',</span><span> </span><span class=\"pre\" style=\"hyphens: none;\">2)</span></code></p>\n",
    "</td>\n",
    "<td style=\"text-align: left; padding: 0.3em 0.5em; border: 1px solid #dddddd !important; border-radius: 3px; background-color: white;\"> </td>\n",
    "<td style=\"text-align: left; padding: 0.3em 0.5em; border: 1px solid #dddddd !important; border-radius: 3px; background-color: white;\">\n",
    "<p style=\"text-align: justify; hyphens: auto; margin-top: 0px; margin-bottom: 0px; line-height: 28px;\"><code class=\"docutils literal notranslate\" style=\"background-color: #ecf0f3; padding: 0px 1px; font-size: 19.3px; font-family: monospace, sans-serif; border-radius: 3px;\"><span class=\"pre\" style=\"hyphens: none;\">AA</span><span> </span><span class=\"pre\" style=\"hyphens: none;\">AB</span><span> </span><span class=\"pre\" style=\"hyphens: none;\">AC</span><span> </span><span class=\"pre\" style=\"hyphens: none;\">AD</span><span> </span><span class=\"pre\" style=\"hyphens: none;\">BB</span><span> </span><span class=\"pre\" style=\"hyphens: none;\">BC</span><span> </span><span class=\"pre\" style=\"hyphens: none;\">BD</span><span> </span><span class=\"pre\" style=\"hyphens: none;\">CC</span><span> </span><span class=\"pre\" style=\"hyphens: none;\">CD</span><span> </span><span class=\"pre\" style=\"hyphens: none;\">DD</span></code></p>\n",
    "</td>\n",
    "</tr>\n",
    "</tbody>\n",
    "</table>"
   ]
  }
 ],
 "metadata": {
  "kernelspec": {
   "display_name": "Python 3.7.9 64-bit ('qt': conda)",
   "name": "python379jvsc74a57bd06573176fe9b2b5ebbaefa9191a83fcf248df8dbc830cb63c2c3e0a826059f3e3"
  },
  "language_info": {
   "name": "python",
   "version": ""
  },
  "orig_nbformat": 2
 },
 "nbformat": 4,
 "nbformat_minor": 2
}