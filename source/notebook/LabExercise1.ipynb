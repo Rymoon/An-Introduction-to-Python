{
 "cells": [
  {
   "cell_type": "markdown",
   "metadata": {},
   "source": [
    "# Lab Exercise 1\n",
    "\n",
    "知识点：\n",
    "\n",
    "* functools.partial 部分参数绑定\n",
    "* 函数作为参数传入: `f(a,b,func)`\n",
    "* 元组解包: `f(*[a,b],func)`\n",
    "* python的复数: `1j`"
   ]
  },
  {
   "cell_type": "markdown",
   "metadata": {},
   "source": [
    "## Q1 Validate an equation"
   ]
  },
  {
   "cell_type": "code",
   "execution_count": 64,
   "metadata": {},
   "outputs": [
    {
     "name": "stdout",
     "output_type": "stream",
     "text": [
      "True\n"
     ]
    }
   ],
   "source": [
    "def Q1(n):\n",
    "    left = sum((i+1)**3 for i in range(n))\n",
    "    right = (sum(i+1 for i in range(n)))**2\n",
    "    return left,right\n",
    "\n",
    "def eq(a,b):\n",
    "    return a==b\n",
    "\n",
    "n = 1000\n",
    "#print(Q1(n))\n",
    "print(eq(*Q1(n)))"
   ]
  },
  {
   "cell_type": "markdown",
   "metadata": {},
   "source": [
    "## Q2 Combination of coins"
   ]
  },
  {
   "cell_type": "markdown",
   "metadata": {},
   "source": [
    "一个组合x，只包含2,5,10若其和为100（记为sum(x)==100），由奇偶性知，5的个数是偶数个。即，从sum(x)==100可推出x由10个和为10的子组合构成：$x = x_1,x_2,...,x_10, sum(x_i)=10$.\n",
    "\n",
    "$x_i$的可能形式为：\n",
    "\n",
    "* 10\n",
    "* 5,5\n",
    "* 2,2,2,2,2 "
   ]
  },
  {
   "cell_type": "code",
   "execution_count": 65,
   "metadata": {},
   "outputs": [
    {
     "name": "stdout",
     "output_type": "stream",
     "text": [
      "66\n",
      "[\"'10'*0,'5'*0,'2'*50\",\n",
      " \"'10'*0,'5'*2,'2'*45\",\n",
      " \"'10'*0,'5'*4,'2'*40\",\n",
      " \"'10'*0,'5'*6,'2'*35\",\n",
      " \"'10'*0,'5'*8,'2'*30\",\n",
      " \"'10'*0,'5'*10,'2'*25\",\n",
      " \"'10'*0,'5'*12,'2'*20\",\n",
      " \"'10'*0,'5'*14,'2'*15\",\n",
      " \"'10'*0,'5'*16,'2'*10\",\n",
      " \"'10'*0,'5'*18,'2'*5\",\n",
      " \"'10'*0,'5'*20,'2'*0\",\n",
      " \"'10'*1,'5'*0,'2'*45\",\n",
      " \"'10'*1,'5'*2,'2'*40\",\n",
      " \"'10'*1,'5'*4,'2'*35\",\n",
      " \"'10'*1,'5'*6,'2'*30\",\n",
      " \"'10'*1,'5'*8,'2'*25\",\n",
      " \"'10'*1,'5'*10,'2'*20\",\n",
      " \"'10'*1,'5'*12,'2'*15\",\n",
      " \"'10'*1,'5'*14,'2'*10\",\n",
      " \"'10'*1,'5'*16,'2'*5\",\n",
      " \"'10'*1,'5'*18,'2'*0\",\n",
      " \"'10'*2,'5'*0,'2'*40\",\n",
      " \"'10'*2,'5'*2,'2'*35\",\n",
      " \"'10'*2,'5'*4,'2'*30\",\n",
      " \"'10'*2,'5'*6,'2'*25\",\n",
      " \"'10'*2,'5'*8,'2'*20\",\n",
      " \"'10'*2,'5'*10,'2'*15\",\n",
      " \"'10'*2,'5'*12,'2'*10\",\n",
      " \"'10'*2,'5'*14,'2'*5\",\n",
      " \"'10'*2,'5'*16,'2'*0\",\n",
      " \"'10'*3,'5'*0,'2'*35\",\n",
      " \"'10'*3,'5'*2,'2'*30\",\n",
      " \"'10'*3,'5'*4,'2'*25\",\n",
      " \"'10'*3,'5'*6,'2'*20\",\n",
      " \"'10'*3,'5'*8,'2'*15\",\n",
      " \"'10'*3,'5'*10,'2'*10\",\n",
      " \"'10'*3,'5'*12,'2'*5\",\n",
      " \"'10'*3,'5'*14,'2'*0\",\n",
      " \"'10'*4,'5'*0,'2'*30\",\n",
      " \"'10'*4,'5'*2,'2'*25\",\n",
      " \"'10'*4,'5'*4,'2'*20\",\n",
      " \"'10'*4,'5'*6,'2'*15\",\n",
      " \"'10'*4,'5'*8,'2'*10\",\n",
      " \"'10'*4,'5'*10,'2'*5\",\n",
      " \"'10'*4,'5'*12,'2'*0\",\n",
      " \"'10'*5,'5'*0,'2'*25\",\n",
      " \"'10'*5,'5'*2,'2'*20\",\n",
      " \"'10'*5,'5'*4,'2'*15\",\n",
      " \"'10'*5,'5'*6,'2'*10\",\n",
      " \"'10'*5,'5'*8,'2'*5\",\n",
      " \"'10'*5,'5'*10,'2'*0\",\n",
      " \"'10'*6,'5'*0,'2'*20\",\n",
      " \"'10'*6,'5'*2,'2'*15\",\n",
      " \"'10'*6,'5'*4,'2'*10\",\n",
      " \"'10'*6,'5'*6,'2'*5\",\n",
      " \"'10'*6,'5'*8,'2'*0\",\n",
      " \"'10'*7,'5'*0,'2'*15\",\n",
      " \"'10'*7,'5'*2,'2'*10\",\n",
      " \"'10'*7,'5'*4,'2'*5\",\n",
      " \"'10'*7,'5'*6,'2'*0\",\n",
      " \"'10'*8,'5'*0,'2'*10\",\n",
      " \"'10'*8,'5'*2,'2'*5\",\n",
      " \"'10'*8,'5'*4,'2'*0\",\n",
      " \"'10'*9,'5'*0,'2'*5\",\n",
      " \"'10'*9,'5'*2,'2'*0\",\n",
      " \"'10'*10,'5'*0,'2'*0\"]\n"
     ]
    }
   ],
   "source": [
    "from pprint import pprint # pretty print for large lists or dicts.\n",
    "def Q2():\n",
    "    comb_l = []\n",
    "    for i in range(10+1):# number 10\n",
    "        for j in range(10+1-i):# number 5*2\n",
    "            k = 10-i-j # number 2*5\n",
    "            comb_l.append(f\"'10'*{i},'5'*{j*2},'2'*{k*5}\")\n",
    "    return comb_l\n",
    "\n",
    "r = Q2()\n",
    "print(len(r))\n",
    "pprint(r)\n",
    "\n"
   ]
  },
  {
   "cell_type": "markdown",
   "metadata": {},
   "source": [
    "## Q3 Fibonacci"
   ]
  },
  {
   "cell_type": "code",
   "execution_count": 66,
   "metadata": {},
   "outputs": [
    {
     "name": "stdout",
     "output_type": "stream",
     "text": [
      "13\n"
     ]
    }
   ],
   "source": [
    "def Q3(n):\n",
    "    _l = [None]*n\n",
    "    _l[0]=0\n",
    "    _l[1]=1\n",
    "    for i in range(2,n):\n",
    "        _l[i]=_l[i-1]+_l[i-2]\n",
    "    return _l\n",
    "\n",
    "n = 8\n",
    "#print(Q3(n))\n",
    "print(Q3(n)[-1])\n"
   ]
  },
  {
   "cell_type": "markdown",
   "metadata": {},
   "source": [
    "## Q4 Quadratic equation"
   ]
  },
  {
   "cell_type": "code",
   "execution_count": 67,
   "metadata": {},
   "outputs": [
    {
     "name": "stdout",
     "output_type": "stream",
     "text": [
      "[(-1-1j), (-1+1j)]\n"
     ]
    }
   ],
   "source": [
    "from math import sqrt\n",
    "from functools import partial\n",
    "def _roots_quadra(func,a,b,c):\n",
    "    delta = b*b - 4*a*c\n",
    "    if a!=0:\n",
    "\n",
    "        try:\n",
    "            if delta==0:\n",
    "                sol1 = -b/(2*a)\n",
    "                return [sol1]\n",
    "\n",
    "            elif delta >0 :    \n",
    "                sol1 = (-b-sqrt(delta))/(2*a)\n",
    "                sol2 = (-b+sqrt(delta))/(2*a)\n",
    "                return [sol1,sol2]\n",
    "        finally:\n",
    "            # delta<0 or delta is complex\n",
    "            return func(delta,a,b,c)\n",
    "\n",
    "    elif b!=0:#bx+c = 0\n",
    "        sol1 = -c/b\n",
    "        return [sol1]\n",
    "    else:# b==0\n",
    "        return\n",
    "\n",
    "real_roots_quadra = partial(_roots_quadra,lambda *args:None)\n",
    "\n",
    "def _complex_func(delta,a,b,c):\n",
    "    v = 1j*sqrt(-delta) # python has built-in type for complex number\n",
    "    sol1 = (-b-v)/(2*a)\n",
    "    sol2 = (-b+v)/(2*a)\n",
    "    return [sol1,sol2]\n",
    "\n",
    "complex_roots_quadra = partial(_roots_quadra,_complex_func)\n",
    "\n",
    "\n",
    "# (x+1)**2 + 1 == 0\n",
    "print(complex_roots_quadra(1,2,2))\n"
   ]
  },
  {
   "cell_type": "markdown",
   "metadata": {},
   "source": [
    "## Q5 complex coefficients"
   ]
  },
  {
   "cell_type": "markdown",
   "metadata": {},
   "source": [
    "### Q 5.1, Q5.2"
   ]
  },
  {
   "cell_type": "code",
   "execution_count": 68,
   "metadata": {},
   "outputs": [
    {
     "name": "stdout",
     "output_type": "stream",
     "text": [
      "solutions: [(-0.5-0.8660254037844386j), (-0.5+0.8660254037844386j)]\n",
      "(1.1102230246251565e-16+0j)\n",
      "(1.1102230246251565e-16+0j)\n",
      "solutions: [(1+2j), (2+2j)]\n",
      "0j\n",
      "0j\n"
     ]
    }
   ],
   "source": [
    "def get_r(delta,a,b,c):\n",
    "    if delta is None:\n",
    "        delta = b*b-4*a*c\n",
    "    delta = complex(delta)\n",
    "    alpha = delta.real\n",
    "    beta = delta.imag\n",
    "    m = abs(delta)\n",
    "    if beta>=0:\n",
    "        e =1\n",
    "    else:\n",
    "        e = -1\n",
    "    r = sqrt((alpha+m)/2)+e*1j*sqrt((-alpha+m)/2)\n",
    "    return r\n",
    "\n",
    "def Q5_1(delta,a,b,c):\n",
    "    r = get_r(delta,a,b,c)\n",
    "    sol1 = (-b-r)/(2*a)\n",
    "    sol2 = (-b+r)/(2*a)\n",
    "    return [sol1,sol2]\n",
    "\n",
    "\n",
    "cplx_zeros_quadra = partial(_roots_quadra,Q5_1)\n",
    "\n",
    "def check(sol,a,b,c):\n",
    "    return a*sol**2+b*sol+c\n",
    "\n",
    "\n",
    "# z**2+z+1=0 # 题目（AppendixQ5.2-截图）似乎有问题？\n",
    "a,b,c = 1,1,1\n",
    "#print(get_r(None,a,b,c))\n",
    "sols = cplx_zeros_quadra(a,b,c)\n",
    "print(\"solutions:\",sols)\n",
    "print(check(sols[0],a,b,c))\n",
    "print(check(sols[1],a,b,c))\n",
    "\n",
    "# z**2-(3+4j)*z-2+6j\n",
    "a,b,c = 1,-3-4j,-2+6j\n",
    "#print(get_r(None,a,b,c))\n",
    "sols = cplx_zeros_quadra(a,b,c)\n",
    "print(\"solutions:\",sols)\n",
    "print(check(sols[0],a,b,c))\n",
    "print(check(sols[1],a,b,c))"
   ]
  },
  {
   "cell_type": "markdown",
   "metadata": {},
   "source": [
    "### Q5.3"
   ]
  },
  {
   "cell_type": "code",
   "execution_count": 69,
   "metadata": {},
   "outputs": [
    {
     "name": "stdout",
     "output_type": "stream",
     "text": [
      "solutions: [(-0.5-0.8660254037844386j), (-0.5+0.8660254037844386j)]\n",
      "(1.1102230246251565e-16+0j)\n",
      "(1.1102230246251565e-16+0j)\n",
      "solutions: [(1+2j), (2+2j)]\n",
      "0j\n",
      "0j\n"
     ]
    }
   ],
   "source": [
    "import cmath\n",
    "def Q5_3(delta,a,b,c):\n",
    "    r = cmath.sqrt(delta)\n",
    "    sol1 = (-b-r)/(2*a)\n",
    "    sol2 = (-b+r)/(2*a)\n",
    "    return [sol1,sol2]\n",
    "\n",
    "ccplx_zeros_quadra = partial(_roots_quadra,Q5_3)\n",
    "\n",
    "# z**2+z+1=0 # 题目（AppendixQ5.2-截图）似乎有问题？\n",
    "a,b,c = 1,1,1\n",
    "#print(get_r(None,a,b,c))\n",
    "sols = ccplx_zeros_quadra(a,b,c)\n",
    "print(\"solutions:\",sols)\n",
    "print(check(sols[0],a,b,c))\n",
    "print(check(sols[1],a,b,c))\n",
    "\n",
    "# z**2-(3+4j)*z-2+6j\n",
    "a,b,c = 1,-3-4j,-2+6j\n",
    "#print(get_r(None,a,b,c))\n",
    "sols = ccplx_zeros_quadra(a,b,c)\n",
    "print(\"solutions:\",sols)\n",
    "print(check(sols[0],a,b,c))\n",
    "print(check(sols[1],a,b,c))\n"
   ]
  },
  {
   "cell_type": "markdown",
   "metadata": {},
   "source": [
    "## Appendix: \n",
    "\n",
    "![hw1-4](images/hw/4.jpg)\n",
    "![hw1-5](images/hw/5.jpg)"
   ]
  }
 ],
 "metadata": {
  "kernelspec": {
   "display_name": "Python 3.7.9 64-bit ('qt': conda)",
   "name": "python379jvsc74a57bd06573176fe9b2b5ebbaefa9191a83fcf248df8dbc830cb63c2c3e0a826059f3e3"
  },
  "language_info": {
   "codemirror_mode": {
    "name": "ipython",
    "version": 3
   },
   "file_extension": ".py",
   "mimetype": "text/x-python",
   "name": "python",
   "nbconvert_exporter": "python",
   "pygments_lexer": "ipython3",
   "version": "3.7.9"
  },
  "orig_nbformat": 2
 },
 "nbformat": 4,
 "nbformat_minor": 2
}